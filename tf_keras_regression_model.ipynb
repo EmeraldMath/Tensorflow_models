{
  "nbformat": 4,
  "nbformat_minor": 0,
  "metadata": {
    "colab": {
      "name": "tf_keras_regression_model",
      "provenance": [],
      "collapsed_sections": [],
      "authorship_tag": "ABX9TyMxQcQ6koqzyzyUhKZTVoCr",
      "include_colab_link": true
    },
    "kernelspec": {
      "name": "python3",
      "display_name": "Python 3"
    }
  },
  "cells": [
    {
      "cell_type": "markdown",
      "metadata": {
        "id": "view-in-github",
        "colab_type": "text"
      },
      "source": [
        "<a href=\"https://colab.research.google.com/github/EmeraldMath/Tensorflow_models/blob/master/tf_keras_regression_model.ipynb\" target=\"_parent\"><img src=\"https://colab.research.google.com/assets/colab-badge.svg\" alt=\"Open In Colab\"/></a>"
      ]
    },
    {
      "cell_type": "code",
      "metadata": {
        "id": "1qTaQkiL_QP3",
        "colab_type": "code",
        "outputId": "743e1305-376c-4676-e728-554136bfc004",
        "colab": {
          "base_uri": "https://localhost:8080/",
          "height": 170
        }
      },
      "source": [
        "%tensorflow_version 2.x\n",
        "import matplotlib as mpl\n",
        "import matplotlib.pyplot as plt\n",
        "%matplotlib inline\n",
        "import numpy as np\n",
        "import sklearn\n",
        "import pandas as pd\n",
        "import os\n",
        "import sys\n",
        "import time\n",
        "import tensorflow as tf\n",
        "\n",
        "from tensorflow import keras\n",
        "\n",
        "print(tf.__version__)\n",
        "print(sys.version_info)\n",
        "for module in mpl, np, pd, sklearn, tf, keras:\n",
        "    print(module.__name__, module.__version__)"
      ],
      "execution_count": 1,
      "outputs": [
        {
          "output_type": "stream",
          "text": [
            "TensorFlow 2.x selected.\n",
            "2.1.0\n",
            "sys.version_info(major=3, minor=6, micro=9, releaselevel='final', serial=0)\n",
            "matplotlib 3.1.2\n",
            "numpy 1.17.5\n",
            "pandas 0.25.3\n",
            "sklearn 0.22.1\n",
            "tensorflow 2.1.0\n",
            "tensorflow_core.python.keras.api._v2.keras 2.2.4-tf\n"
          ],
          "name": "stdout"
        }
      ]
    },
    {
      "cell_type": "code",
      "metadata": {
        "id": "saB-LVmq_T6P",
        "colab_type": "code",
        "outputId": "a264559a-145a-4b02-c959-cfd4c1949d6d",
        "colab": {
          "base_uri": "https://localhost:8080/",
          "height": 765
        }
      },
      "source": [
        "from sklearn.datasets import fetch_california_housing\n",
        "\n",
        "housing = fetch_california_housing()\n",
        "print(housing.DESCR)\n",
        "print(housing.data.shape)\n",
        "print(housing.target.shape)"
      ],
      "execution_count": 2,
      "outputs": [
        {
          "output_type": "stream",
          "text": [
            "Downloading Cal. housing from https://ndownloader.figshare.com/files/5976036 to /root/scikit_learn_data\n"
          ],
          "name": "stderr"
        },
        {
          "output_type": "stream",
          "text": [
            ".. _california_housing_dataset:\n",
            "\n",
            "California Housing dataset\n",
            "--------------------------\n",
            "\n",
            "**Data Set Characteristics:**\n",
            "\n",
            "    :Number of Instances: 20640\n",
            "\n",
            "    :Number of Attributes: 8 numeric, predictive attributes and the target\n",
            "\n",
            "    :Attribute Information:\n",
            "        - MedInc        median income in block\n",
            "        - HouseAge      median house age in block\n",
            "        - AveRooms      average number of rooms\n",
            "        - AveBedrms     average number of bedrooms\n",
            "        - Population    block population\n",
            "        - AveOccup      average house occupancy\n",
            "        - Latitude      house block latitude\n",
            "        - Longitude     house block longitude\n",
            "\n",
            "    :Missing Attribute Values: None\n",
            "\n",
            "This dataset was obtained from the StatLib repository.\n",
            "http://lib.stat.cmu.edu/datasets/\n",
            "\n",
            "The target variable is the median house value for California districts.\n",
            "\n",
            "This dataset was derived from the 1990 U.S. census, using one row per census\n",
            "block group. A block group is the smallest geographical unit for which the U.S.\n",
            "Census Bureau publishes sample data (a block group typically has a population\n",
            "of 600 to 3,000 people).\n",
            "\n",
            "It can be downloaded/loaded using the\n",
            ":func:`sklearn.datasets.fetch_california_housing` function.\n",
            "\n",
            ".. topic:: References\n",
            "\n",
            "    - Pace, R. Kelley and Ronald Barry, Sparse Spatial Autoregressions,\n",
            "      Statistics and Probability Letters, 33 (1997) 291-297\n",
            "\n",
            "(20640, 8)\n",
            "(20640,)\n"
          ],
          "name": "stdout"
        }
      ]
    },
    {
      "cell_type": "code",
      "metadata": {
        "id": "jaXRcwomJECD",
        "colab_type": "code",
        "colab": {
          "base_uri": "https://localhost:8080/",
          "height": 289
        },
        "outputId": "a6402016-2a59-4102-a487-5e33b14383eb"
      },
      "source": [
        "# pprint is package for nice looking print\n",
        "import pprint\n",
        "pprint.pprint(housing.data[0:5])\n",
        "pprint.pprint(housing.target[0:5])"
      ],
      "execution_count": 3,
      "outputs": [
        {
          "output_type": "stream",
          "text": [
            "array([[ 8.32520000e+00,  4.10000000e+01,  6.98412698e+00,\n",
            "         1.02380952e+00,  3.22000000e+02,  2.55555556e+00,\n",
            "         3.78800000e+01, -1.22230000e+02],\n",
            "       [ 8.30140000e+00,  2.10000000e+01,  6.23813708e+00,\n",
            "         9.71880492e-01,  2.40100000e+03,  2.10984183e+00,\n",
            "         3.78600000e+01, -1.22220000e+02],\n",
            "       [ 7.25740000e+00,  5.20000000e+01,  8.28813559e+00,\n",
            "         1.07344633e+00,  4.96000000e+02,  2.80225989e+00,\n",
            "         3.78500000e+01, -1.22240000e+02],\n",
            "       [ 5.64310000e+00,  5.20000000e+01,  5.81735160e+00,\n",
            "         1.07305936e+00,  5.58000000e+02,  2.54794521e+00,\n",
            "         3.78500000e+01, -1.22250000e+02],\n",
            "       [ 3.84620000e+00,  5.20000000e+01,  6.28185328e+00,\n",
            "         1.08108108e+00,  5.65000000e+02,  2.18146718e+00,\n",
            "         3.78500000e+01, -1.22250000e+02]])\n",
            "array([4.526, 3.585, 3.521, 3.413, 3.422])\n"
          ],
          "name": "stdout"
        }
      ]
    },
    {
      "cell_type": "code",
      "metadata": {
        "id": "JYWEvKM4JrZZ",
        "colab_type": "code",
        "colab": {
          "base_uri": "https://localhost:8080/",
          "height": 68
        },
        "outputId": "2c67b06d-4561-4161-8734-010e858f12fe"
      },
      "source": [
        "from sklearn.model_selection import train_test_split\n",
        "\n",
        "x_train_all, x_test, y_train_all, y_test = train_test_split(\n",
        "    housing.data, housing.target, random_state = 7) #default test_size = 0.25\n",
        "x_train, x_valid, y_train, y_valid = train_test_split(\n",
        "    x_train_all, y_train_all, random_state = 11)\n",
        "print(x_train.shape, y_train.shape)\n",
        "print(x_valid.shape, y_valid.shape)\n",
        "print(x_test.shape, y_test.shape)"
      ],
      "execution_count": 4,
      "outputs": [
        {
          "output_type": "stream",
          "text": [
            "(11610, 8) (11610,)\n",
            "(3870, 8) (3870,)\n",
            "(5160, 8) (5160,)\n"
          ],
          "name": "stdout"
        }
      ]
    },
    {
      "cell_type": "code",
      "metadata": {
        "id": "5iC77xYJKYs5",
        "colab_type": "code",
        "colab": {}
      },
      "source": [
        "from sklearn.preprocessing import StandardScaler\n",
        "\n",
        "scaler = StandardScaler()\n",
        "x_train_scaled = scaler.fit_transform(x_train)\n",
        "x_valid_scaled = scaler.transform(x_valid)\n",
        "x_test_scaled = scaler.transform(x_test)"
      ],
      "execution_count": 0,
      "outputs": []
    },
    {
      "cell_type": "code",
      "metadata": {
        "id": "l9uaKZuuKvtf",
        "colab_type": "code",
        "colab": {
          "base_uri": "https://localhost:8080/",
          "height": 221
        },
        "outputId": "19a14f9c-dfc8-417f-910a-87ba11ac26d1"
      },
      "source": [
        "model = keras.models.Sequential([\n",
        "    keras.layers.Dense(30, activation='relu',\n",
        "                       input_shape = x_train.shape[1:]),\n",
        "    keras.layers.Dense(1),                 \n",
        "])\n",
        "model.summary()\n",
        "model.compile(loss='mean_squared_error', optimizer='sgd')\n",
        "callbacks = [keras.callbacks.EarlyStopping(\n",
        "    patience=5, min_delta = 1e-2)]"
      ],
      "execution_count": 17,
      "outputs": [
        {
          "output_type": "stream",
          "text": [
            "Model: \"sequential_5\"\n",
            "_________________________________________________________________\n",
            "Layer (type)                 Output Shape              Param #   \n",
            "=================================================================\n",
            "dense_10 (Dense)             (None, 30)                270       \n",
            "_________________________________________________________________\n",
            "dense_11 (Dense)             (None, 1)                 31        \n",
            "=================================================================\n",
            "Total params: 301\n",
            "Trainable params: 301\n",
            "Non-trainable params: 0\n",
            "_________________________________________________________________\n"
          ],
          "name": "stdout"
        }
      ]
    },
    {
      "cell_type": "code",
      "metadata": {
        "id": "KonwzQFBMtMr",
        "colab_type": "code",
        "colab": {
          "base_uri": "https://localhost:8080/",
          "height": 816
        },
        "outputId": "ad5fa7b6-887d-4ac5-dcb8-777d97138a08"
      },
      "source": [
        "history = model.fit(x_train_scaled, y_train,\n",
        "                    validation_data = (x_valid_scaled, y_valid),\n",
        "                    epochs = 100,\n",
        "                    callbacks = callbacks)"
      ],
      "execution_count": 18,
      "outputs": [
        {
          "output_type": "stream",
          "text": [
            "Train on 11610 samples, validate on 3870 samples\n",
            "Epoch 1/100\n",
            "11610/11610 [==============================] - 1s 72us/sample - loss: 0.8650 - val_loss: 0.6359\n",
            "Epoch 2/100\n",
            "11610/11610 [==============================] - 1s 54us/sample - loss: 0.5839 - val_loss: 0.5849\n",
            "Epoch 3/100\n",
            "11610/11610 [==============================] - 1s 53us/sample - loss: 0.4548 - val_loss: 0.4644\n",
            "Epoch 4/100\n",
            "11610/11610 [==============================] - 1s 55us/sample - loss: 0.4222 - val_loss: 0.5993\n",
            "Epoch 5/100\n",
            "11610/11610 [==============================] - 1s 55us/sample - loss: 0.4121 - val_loss: 0.4235\n",
            "Epoch 6/100\n",
            "11610/11610 [==============================] - 1s 54us/sample - loss: 0.4040 - val_loss: 0.4163\n",
            "Epoch 7/100\n",
            "11610/11610 [==============================] - 1s 54us/sample - loss: 0.3930 - val_loss: 0.4144\n",
            "Epoch 8/100\n",
            "11610/11610 [==============================] - 1s 53us/sample - loss: 0.3938 - val_loss: 0.4275\n",
            "Epoch 9/100\n",
            "11610/11610 [==============================] - 1s 53us/sample - loss: 0.3835 - val_loss: 0.3980\n",
            "Epoch 10/100\n",
            "11610/11610 [==============================] - 1s 54us/sample - loss: 0.3792 - val_loss: 0.3983\n",
            "Epoch 11/100\n",
            "11610/11610 [==============================] - 1s 55us/sample - loss: 0.3776 - val_loss: 0.3924\n",
            "Epoch 12/100\n",
            "11610/11610 [==============================] - 1s 56us/sample - loss: 0.3791 - val_loss: 0.3907\n",
            "Epoch 13/100\n",
            "11610/11610 [==============================] - 1s 55us/sample - loss: 0.3711 - val_loss: 0.3858\n",
            "Epoch 14/100\n",
            "11610/11610 [==============================] - 1s 54us/sample - loss: 0.3683 - val_loss: 0.3832\n",
            "Epoch 15/100\n",
            "11610/11610 [==============================] - 1s 53us/sample - loss: 0.3691 - val_loss: 0.3836\n",
            "Epoch 16/100\n",
            "11610/11610 [==============================] - 1s 55us/sample - loss: 0.3661 - val_loss: 0.3769\n",
            "Epoch 17/100\n",
            "11610/11610 [==============================] - 1s 54us/sample - loss: 0.3707 - val_loss: 0.3778\n",
            "Epoch 18/100\n",
            "11610/11610 [==============================] - 1s 55us/sample - loss: 0.3617 - val_loss: 0.3747\n",
            "Epoch 19/100\n",
            "11610/11610 [==============================] - 1s 55us/sample - loss: 0.3599 - val_loss: 0.3740\n",
            "Epoch 20/100\n",
            "11610/11610 [==============================] - 1s 53us/sample - loss: 0.3583 - val_loss: 0.3799\n",
            "Epoch 21/100\n",
            "11610/11610 [==============================] - 1s 53us/sample - loss: 0.3653 - val_loss: 0.3688\n",
            "Epoch 22/100\n",
            "11610/11610 [==============================] - 1s 54us/sample - loss: 0.3689 - val_loss: 0.5759\n",
            "Epoch 23/100\n",
            "11610/11610 [==============================] - 1s 53us/sample - loss: 0.3563 - val_loss: 0.3809\n"
          ],
          "name": "stdout"
        }
      ]
    },
    {
      "cell_type": "code",
      "metadata": {
        "id": "RwKk-GsPNIvy",
        "colab_type": "code",
        "colab": {
          "base_uri": "https://localhost:8080/",
          "height": 324
        },
        "outputId": "7ebe03ef-387e-4c2c-ab72-6ab7a567dd07"
      },
      "source": [
        "def plot_learning_curves(history):\n",
        "  pd.DataFrame(history.history).plot(figsize = (8,5))\n",
        "  plt.grid(True)\n",
        "  plt.gca().set_ylim(0,1)\n",
        "  plt.show()\n",
        "plot_learning_curves(history)"
      ],
      "execution_count": 19,
      "outputs": [
        {
          "output_type": "display_data",
          "data": {
            "image/png": "[encoded data removed]",
            "text/plain": [
              "<Figure size 576x360 with 1 Axes>"
            ]
          },
          "metadata": {
            "tags": []
          }
        }
      ]
    },
    {
      "cell_type": "code",
      "metadata": {
        "id": "IF3UQ95bNkyv",
        "colab_type": "code",
        "colab": {
          "base_uri": "https://localhost:8080/",
          "height": 51
        },
        "outputId": "06124347-3266-4ad2-ca77-db8f3d1b0d72"
      },
      "source": [
        "model.evaluate(x_test_scaled, y_test)"
      ],
      "execution_count": 20,
      "outputs": [
        {
          "output_type": "stream",
          "text": [
            "5160/5160 [==============================] - 0s 31us/sample - loss: 0.3785\n"
          ],
          "name": "stdout"
        },
        {
          "output_type": "execute_result",
          "data": {
            "text/plain": [
              "0.37849050376766413"
            ]
          },
          "metadata": {
            "tags": []
          },
          "execution_count": 20
        }
      ]
    },
    {
      "cell_type": "code",
      "metadata": {
        "id": "DN5M0IJHOQNB",
        "colab_type": "code",
        "colab": {}
      },
      "source": [
        ""
      ],
      "execution_count": 0,
      "outputs": []
    },
    {
      "cell_type": "code",
      "metadata": {
        "id": "lh9WL_ThxCBs",
        "colab_type": "code",
        "colab": {}
      },
      "source": [
        "# Load the TensorBoard notebook extension\n",
        "%load_ext tensorboard\n",
        "%tensorboard --logdir callbacks"
      ],
      "execution_count": 0,
      "outputs": []
    }
  ]
}