{
  "nbformat": 4,
  "nbformat_minor": 0,
  "metadata": {
    "colab": {
      "name": "tf_keras_regression_model-wide_and_deep-multi_input",
      "provenance": [],
      "collapsed_sections": [],
      "authorship_tag": "ABX9TyN/uGGNcXv80L9tZFEkQp2P",
      "include_colab_link": true
    },
    "kernelspec": {
      "name": "python3",
      "display_name": "Python 3"
    }
  },
  "cells": [
    {
      "cell_type": "markdown",
      "metadata": {
        "id": "view-in-github",
        "colab_type": "text"
      },
      "source": [
        "<a href=\"https://colab.research.google.com/github/EmeraldMath/Tensorflow_models/blob/master/tf_keras_regression_model_wide_and_deep_multi_input.ipynb\" target=\"_parent\"><img src=\"https://colab.research.google.com/assets/colab-badge.svg\" alt=\"Open In Colab\"/></a>"
      ]
    },
    {
      "cell_type": "code",
      "metadata": {
        "id": "1qTaQkiL_QP3",
        "colab_type": "code",
        "outputId": "40fd86df-3819-412e-ddec-d7a28a42887f",
        "colab": {
          "base_uri": "https://localhost:8080/",
          "height": 170
        }
      },
      "source": [
        "%tensorflow_version 2.x\n",
        "import matplotlib as mpl\n",
        "import matplotlib.pyplot as plt\n",
        "%matplotlib inline\n",
        "import numpy as np\n",
        "import sklearn\n",
        "import pandas as pd\n",
        "import os\n",
        "import sys\n",
        "import time\n",
        "import tensorflow as tf\n",
        "\n",
        "from tensorflow import keras\n",
        "\n",
        "print(tf.__version__)\n",
        "print(sys.version_info)\n",
        "for module in mpl, np, pd, sklearn, tf, keras:\n",
        "    print(module.__name__, module.__version__)"
      ],
      "execution_count": 1,
      "outputs": [
        {
          "output_type": "stream",
          "text": [
            "TensorFlow 2.x selected.\n",
            "2.1.0\n",
            "sys.version_info(major=3, minor=6, micro=9, releaselevel='final', serial=0)\n",
            "matplotlib 3.1.2\n",
            "numpy 1.17.5\n",
            "pandas 0.25.3\n",
            "sklearn 0.22.1\n",
            "tensorflow 2.1.0\n",
            "tensorflow_core.python.keras.api._v2.keras 2.2.4-tf\n"
          ],
          "name": "stdout"
        }
      ]
    },
    {
      "cell_type": "code",
      "metadata": {
        "id": "saB-LVmq_T6P",
        "colab_type": "code",
        "outputId": "50dbf1a7-e028-4238-df2b-826a337c17e6",
        "colab": {
          "base_uri": "https://localhost:8080/",
          "height": 785
        }
      },
      "source": [
        "from sklearn.datasets import fetch_california_housing\n",
        "\n",
        "housing = fetch_california_housing()\n",
        "print(housing.DESCR)\n",
        "print(housing.data.shape)\n",
        "print(housing.target.shape)"
      ],
      "execution_count": 2,
      "outputs": [
        {
          "output_type": "stream",
          "text": [
            "Downloading Cal. housing from https://ndownloader.figshare.com/files/5976036 to /root/scikit_learn_data\n"
          ],
          "name": "stderr"
        },
        {
          "output_type": "stream",
          "text": [
            ".. _california_housing_dataset:\n",
            "\n",
            "California Housing dataset\n",
            "--------------------------\n",
            "\n",
            "**Data Set Characteristics:**\n",
            "\n",
            "    :Number of Instances: 20640\n",
            "\n",
            "    :Number of Attributes: 8 numeric, predictive attributes and the target\n",
            "\n",
            "    :Attribute Information:\n",
            "        - MedInc        median income in block\n",
            "        - HouseAge      median house age in block\n",
            "        - AveRooms      average number of rooms\n",
            "        - AveBedrms     average number of bedrooms\n",
            "        - Population    block population\n",
            "        - AveOccup      average house occupancy\n",
            "        - Latitude      house block latitude\n",
            "        - Longitude     house block longitude\n",
            "\n",
            "    :Missing Attribute Values: None\n",
            "\n",
            "This dataset was obtained from the StatLib repository.\n",
            "http://lib.stat.cmu.edu/datasets/\n",
            "\n",
            "The target variable is the median house value for California districts.\n",
            "\n",
            "This dataset was derived from the 1990 U.S. census, using one row per census\n",
            "block group. A block group is the smallest geographical unit for which the U.S.\n",
            "Census Bureau publishes sample data (a block group typically has a population\n",
            "of 600 to 3,000 people).\n",
            "\n",
            "It can be downloaded/loaded using the\n",
            ":func:`sklearn.datasets.fetch_california_housing` function.\n",
            "\n",
            ".. topic:: References\n",
            "\n",
            "    - Pace, R. Kelley and Ronald Barry, Sparse Spatial Autoregressions,\n",
            "      Statistics and Probability Letters, 33 (1997) 291-297\n",
            "\n",
            "(20640, 8)\n",
            "(20640,)\n"
          ],
          "name": "stdout"
        }
      ]
    },
    {
      "cell_type": "code",
      "metadata": {
        "id": "JYWEvKM4JrZZ",
        "colab_type": "code",
        "outputId": "75f1d727-8bfc-45d1-cbd6-0a7d159ad66d",
        "colab": {
          "base_uri": "https://localhost:8080/",
          "height": 68
        }
      },
      "source": [
        "from sklearn.model_selection import train_test_split\n",
        "\n",
        "x_train_all, x_test, y_train_all, y_test = train_test_split(\n",
        "    housing.data, housing.target, random_state = 7) #default test_size = 0.25\n",
        "x_train, x_valid, y_train, y_valid = train_test_split(\n",
        "    x_train_all, y_train_all, random_state = 11)\n",
        "print(x_train.shape, y_train.shape)\n",
        "print(x_valid.shape, y_valid.shape)\n",
        "print(x_test.shape, y_test.shape)"
      ],
      "execution_count": 3,
      "outputs": [
        {
          "output_type": "stream",
          "text": [
            "(11610, 8) (11610,)\n",
            "(3870, 8) (3870,)\n",
            "(5160, 8) (5160,)\n"
          ],
          "name": "stdout"
        }
      ]
    },
    {
      "cell_type": "code",
      "metadata": {
        "id": "5iC77xYJKYs5",
        "colab_type": "code",
        "colab": {}
      },
      "source": [
        "from sklearn.preprocessing import StandardScaler\n",
        "\n",
        "scaler = StandardScaler()\n",
        "x_train_scaled = scaler.fit_transform(x_train)\n",
        "x_valid_scaled = scaler.transform(x_valid)\n",
        "x_test_scaled = scaler.transform(x_test)"
      ],
      "execution_count": 0,
      "outputs": []
    },
    {
      "cell_type": "code",
      "metadata": {
        "id": "l9uaKZuuKvtf",
        "colab_type": "code",
        "outputId": "a1c80f37-8ba2-4fc1-ad68-555d7196fbd7",
        "colab": {
          "base_uri": "https://localhost:8080/",
          "height": 374
        }
      },
      "source": [
        "# multi-input and functional API\n",
        "#decide the first 5 features as inputs for wide model, and the last 6 features as inputs for deep model\n",
        "input_wide = keras.layers.Input(shape=[5])\n",
        "input_deep = keras.layers.Input(shape=[6])\n",
        "hidden1 = keras.layers.Dense(30, activation='relu')(input_deep)\n",
        "hidden2 = keras.layers.Dense(30, activation='relu')(hidden1)\n",
        "concat = keras.layers.concatenate([input_wide, hidden2])\n",
        "output = keras.layers.Dense(1)(concat)\n",
        "model = keras.models.Model(inputs = [input_wide, input_deep],\n",
        "                          outputs = [output])\n",
        "\n",
        "model.summary()\n",
        "model.compile(loss='mean_squared_error', optimizer='adam')\n",
        "callbacks = [keras.callbacks.EarlyStopping(\n",
        "    patience=5, min_delta = 1e-2)]"
      ],
      "execution_count": 9,
      "outputs": [
        {
          "output_type": "stream",
          "text": [
            "Model: \"model\"\n",
            "__________________________________________________________________________________________________\n",
            "Layer (type)                    Output Shape         Param #     Connected to                     \n",
            "==================================================================================================\n",
            "input_10 (InputLayer)           [(None, 6)]          0                                            \n",
            "__________________________________________________________________________________________________\n",
            "dense_12 (Dense)                (None, 30)           210         input_10[0][0]                   \n",
            "__________________________________________________________________________________________________\n",
            "input_9 (InputLayer)            [(None, 5)]          0                                            \n",
            "__________________________________________________________________________________________________\n",
            "dense_13 (Dense)                (None, 30)           930         dense_12[0][0]                   \n",
            "__________________________________________________________________________________________________\n",
            "concatenate_4 (Concatenate)     (None, 35)           0           input_9[0][0]                    \n",
            "                                                                 dense_13[0][0]                   \n",
            "__________________________________________________________________________________________________\n",
            "dense_14 (Dense)                (None, 1)            36          concatenate_4[0][0]              \n",
            "==================================================================================================\n",
            "Total params: 1,176\n",
            "Trainable params: 1,176\n",
            "Non-trainable params: 0\n",
            "__________________________________________________________________________________________________\n"
          ],
          "name": "stdout"
        }
      ]
    },
    {
      "cell_type": "code",
      "metadata": {
        "id": "KonwzQFBMtMr",
        "colab_type": "code",
        "outputId": "2b985cc9-636c-4e7b-d8b4-7114292df663",
        "colab": {
          "base_uri": "https://localhost:8080/",
          "height": 646
        }
      },
      "source": [
        "x_train_scaled_wide = x_train_scaled[:, :5]\n",
        "x_train_scaled_deep = x_train_scaled[:, 2:]\n",
        "x_valid_scaled_wide = x_valid_scaled[:, :5]\n",
        "x_valid_scaled_deep = x_valid_scaled[:, 2:]\n",
        "x_test_scaled_wide = x_test_scaled[:, :5]\n",
        "x_test_scaled_deep = x_test_scaled[:, 2:]\n",
        "\n",
        "history = model.fit([x_train_scaled_wide, x_train_scaled_deep],\n",
        "                    y_train,\n",
        "                    validation_data = (\n",
        "                        [x_valid_scaled_wide, x_valid_scaled_deep]\n",
        "                        , y_valid),\n",
        "                    epochs = 100,\n",
        "                    callbacks = callbacks)"
      ],
      "execution_count": 11,
      "outputs": [
        {
          "output_type": "stream",
          "text": [
            "Train on 11610 samples, validate on 3870 samples\n",
            "Epoch 1/100\n",
            "11610/11610 [==============================] - 1s 74us/sample - loss: 0.5208 - val_loss: 0.4732\n",
            "Epoch 2/100\n",
            "11610/11610 [==============================] - 1s 76us/sample - loss: 0.4313 - val_loss: 0.4298\n",
            "Epoch 3/100\n",
            "11610/11610 [==============================] - 1s 73us/sample - loss: 0.4156 - val_loss: 0.4067\n",
            "Epoch 4/100\n",
            "11610/11610 [==============================] - 1s 72us/sample - loss: 0.3995 - val_loss: 0.3956\n",
            "Epoch 5/100\n",
            "11610/11610 [==============================] - 1s 72us/sample - loss: 0.3881 - val_loss: 0.3878\n",
            "Epoch 6/100\n",
            "11610/11610 [==============================] - 1s 73us/sample - loss: 0.3783 - val_loss: 0.3818\n",
            "Epoch 7/100\n",
            "11610/11610 [==============================] - 1s 71us/sample - loss: 0.3675 - val_loss: 0.3780\n",
            "Epoch 8/100\n",
            "11610/11610 [==============================] - 1s 73us/sample - loss: 0.3710 - val_loss: 0.3721\n",
            "Epoch 9/100\n",
            "11610/11610 [==============================] - 1s 73us/sample - loss: 0.3523 - val_loss: 0.3754\n",
            "Epoch 10/100\n",
            "11610/11610 [==============================] - 1s 74us/sample - loss: 0.3522 - val_loss: 0.3722\n",
            "Epoch 11/100\n",
            "11610/11610 [==============================] - 1s 72us/sample - loss: 0.3732 - val_loss: 0.3644\n",
            "Epoch 12/100\n",
            "11610/11610 [==============================] - 1s 73us/sample - loss: 0.3517 - val_loss: 0.3694\n",
            "Epoch 13/100\n",
            "11610/11610 [==============================] - 1s 73us/sample - loss: 0.3409 - val_loss: 0.3442\n",
            "Epoch 14/100\n",
            "11610/11610 [==============================] - 1s 73us/sample - loss: 0.3383 - val_loss: 0.3512\n",
            "Epoch 15/100\n",
            "11610/11610 [==============================] - 1s 71us/sample - loss: 0.3492 - val_loss: 0.3429\n",
            "Epoch 16/100\n",
            "11610/11610 [==============================] - 1s 75us/sample - loss: 0.3291 - val_loss: 0.3449\n",
            "Epoch 17/100\n",
            "11610/11610 [==============================] - 1s 73us/sample - loss: 0.3372 - val_loss: 0.3483\n",
            "Epoch 18/100\n",
            "11610/11610 [==============================] - 1s 76us/sample - loss: 0.3331 - val_loss: 0.3496\n"
          ],
          "name": "stdout"
        }
      ]
    },
    {
      "cell_type": "code",
      "metadata": {
        "id": "RwKk-GsPNIvy",
        "colab_type": "code",
        "outputId": "84a59985-8d23-4e98-9b1b-794f00356756",
        "colab": {
          "base_uri": "https://localhost:8080/",
          "height": 324
        }
      },
      "source": [
        "def plot_learning_curves(history):\n",
        "  pd.DataFrame(history.history).plot(figsize = (8,5))\n",
        "  plt.grid(True)\n",
        "  plt.gca().set_ylim(0,1)\n",
        "  plt.show()\n",
        "plot_learning_curves(history)"
      ],
      "execution_count": 12,
      "outputs": [
        {
          "output_type": "display_data",
          "data": {
            "image/png": "[encoded data removed]",
            "text/plain": [
              "<Figure size 576x360 with 1 Axes>"
            ]
          },
          "metadata": {
            "tags": []
          }
        }
      ]
    },
    {
      "cell_type": "code",
      "metadata": {
        "id": "IF3UQ95bNkyv",
        "colab_type": "code",
        "outputId": "20a42cdd-45ee-4d38-a1d3-77fd53d77b75",
        "colab": {
          "base_uri": "https://localhost:8080/",
          "height": 51
        }
      },
      "source": [
        "model.evaluate([x_test_scaled_wide, x_test_scaled_deep], y_test)"
      ],
      "execution_count": 13,
      "outputs": [
        {
          "output_type": "stream",
          "text": [
            "5160/5160 [==============================] - 0s 33us/sample - loss: 0.3435\n"
          ],
          "name": "stdout"
        },
        {
          "output_type": "execute_result",
          "data": {
            "text/plain": [
              "0.34353949238163556"
            ]
          },
          "metadata": {
            "tags": []
          },
          "execution_count": 13
        }
      ]
    },
    {
      "cell_type": "code",
      "metadata": {
        "id": "lh9WL_ThxCBs",
        "colab_type": "code",
        "colab": {}
      },
      "source": [
        "# Load the TensorBoard notebook extension\n",
        "%load_ext tensorboard\n",
        "%tensorboard --logdir callbacks"
      ],
      "execution_count": 0,
      "outputs": []
    }
  ]
}