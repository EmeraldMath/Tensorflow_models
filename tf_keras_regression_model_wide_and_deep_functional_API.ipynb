{
  "nbformat": 4,
  "nbformat_minor": 0,
  "metadata": {
    "colab": {
      "name": " tf_keras_regression_model-wide_and_deep-functional_API",
      "provenance": [],
      "collapsed_sections": [],
      "authorship_tag": "ABX9TyPduUvhr11+VQUQigrGeBvi",
      "include_colab_link": true
    },
    "kernelspec": {
      "name": "python3",
      "display_name": "Python 3"
    }
  },
  "cells": [
    {
      "cell_type": "markdown",
      "metadata": {
        "id": "view-in-github",
        "colab_type": "text"
      },
      "source": [
        "<a href=\"https://colab.research.google.com/github/EmeraldMath/Tensorflow_models/blob/master/tf_keras_regression_model_wide_and_deep_functional_API.ipynb\" target=\"_parent\"><img src=\"https://colab.research.google.com/assets/colab-badge.svg\" alt=\"Open In Colab\"/></a>"
      ]
    },
    {
      "cell_type": "code",
      "metadata": {
        "id": "1qTaQkiL_QP3",
        "colab_type": "code",
        "outputId": "a219c1a0-84c2-47f6-f687-ab96fca941c0",
        "colab": {
          "base_uri": "https://localhost:8080/",
          "height": 170
        }
      },
      "source": [
        "%tensorflow_version 2.x\n",
        "import matplotlib as mpl\n",
        "import matplotlib.pyplot as plt\n",
        "%matplotlib inline\n",
        "import numpy as np\n",
        "import sklearn\n",
        "import pandas as pd\n",
        "import os\n",
        "import sys\n",
        "import time\n",
        "import tensorflow as tf\n",
        "\n",
        "from tensorflow import keras\n",
        "\n",
        "print(tf.__version__)\n",
        "print(sys.version_info)\n",
        "for module in mpl, np, pd, sklearn, tf, keras:\n",
        "    print(module.__name__, module.__version__)"
      ],
      "execution_count": 2,
      "outputs": [
        {
          "output_type": "stream",
          "text": [
            "TensorFlow 2.x selected.\n",
            "2.1.0\n",
            "sys.version_info(major=3, minor=6, micro=9, releaselevel='final', serial=0)\n",
            "matplotlib 3.1.2\n",
            "numpy 1.17.5\n",
            "pandas 0.25.3\n",
            "sklearn 0.22.1\n",
            "tensorflow 2.1.0\n",
            "tensorflow_core.python.keras.api._v2.keras 2.2.4-tf\n"
          ],
          "name": "stdout"
        }
      ]
    },
    {
      "cell_type": "code",
      "metadata": {
        "id": "saB-LVmq_T6P",
        "colab_type": "code",
        "outputId": "e441b8c3-00cd-4258-81f9-d25790a6ff3f",
        "colab": {
          "base_uri": "https://localhost:8080/",
          "height": 785
        }
      },
      "source": [
        "from sklearn.datasets import fetch_california_housing\n",
        "\n",
        "housing = fetch_california_housing()\n",
        "print(housing.DESCR)\n",
        "print(housing.data.shape)\n",
        "print(housing.target.shape)"
      ],
      "execution_count": 3,
      "outputs": [
        {
          "output_type": "stream",
          "text": [
            "Downloading Cal. housing from https://ndownloader.figshare.com/files/5976036 to /root/scikit_learn_data\n"
          ],
          "name": "stderr"
        },
        {
          "output_type": "stream",
          "text": [
            ".. _california_housing_dataset:\n",
            "\n",
            "California Housing dataset\n",
            "--------------------------\n",
            "\n",
            "**Data Set Characteristics:**\n",
            "\n",
            "    :Number of Instances: 20640\n",
            "\n",
            "    :Number of Attributes: 8 numeric, predictive attributes and the target\n",
            "\n",
            "    :Attribute Information:\n",
            "        - MedInc        median income in block\n",
            "        - HouseAge      median house age in block\n",
            "        - AveRooms      average number of rooms\n",
            "        - AveBedrms     average number of bedrooms\n",
            "        - Population    block population\n",
            "        - AveOccup      average house occupancy\n",
            "        - Latitude      house block latitude\n",
            "        - Longitude     house block longitude\n",
            "\n",
            "    :Missing Attribute Values: None\n",
            "\n",
            "This dataset was obtained from the StatLib repository.\n",
            "http://lib.stat.cmu.edu/datasets/\n",
            "\n",
            "The target variable is the median house value for California districts.\n",
            "\n",
            "This dataset was derived from the 1990 U.S. census, using one row per census\n",
            "block group. A block group is the smallest geographical unit for which the U.S.\n",
            "Census Bureau publishes sample data (a block group typically has a population\n",
            "of 600 to 3,000 people).\n",
            "\n",
            "It can be downloaded/loaded using the\n",
            ":func:`sklearn.datasets.fetch_california_housing` function.\n",
            "\n",
            ".. topic:: References\n",
            "\n",
            "    - Pace, R. Kelley and Ronald Barry, Sparse Spatial Autoregressions,\n",
            "      Statistics and Probability Letters, 33 (1997) 291-297\n",
            "\n",
            "(20640, 8)\n",
            "(20640,)\n"
          ],
          "name": "stdout"
        }
      ]
    },
    {
      "cell_type": "code",
      "metadata": {
        "id": "JYWEvKM4JrZZ",
        "colab_type": "code",
        "outputId": "b83f3f19-30ee-423d-af93-1e8c3649344b",
        "colab": {
          "base_uri": "https://localhost:8080/",
          "height": 68
        }
      },
      "source": [
        "from sklearn.model_selection import train_test_split\n",
        "\n",
        "x_train_all, x_test, y_train_all, y_test = train_test_split(\n",
        "    housing.data, housing.target, random_state = 7) #default test_size = 0.25\n",
        "x_train, x_valid, y_train, y_valid = train_test_split(\n",
        "    x_train_all, y_train_all, random_state = 11)\n",
        "print(x_train.shape, y_train.shape)\n",
        "print(x_valid.shape, y_valid.shape)\n",
        "print(x_test.shape, y_test.shape)"
      ],
      "execution_count": 4,
      "outputs": [
        {
          "output_type": "stream",
          "text": [
            "(11610, 8) (11610,)\n",
            "(3870, 8) (3870,)\n",
            "(5160, 8) (5160,)\n"
          ],
          "name": "stdout"
        }
      ]
    },
    {
      "cell_type": "code",
      "metadata": {
        "id": "5iC77xYJKYs5",
        "colab_type": "code",
        "colab": {}
      },
      "source": [
        "from sklearn.preprocessing import StandardScaler\n",
        "\n",
        "scaler = StandardScaler()\n",
        "x_train_scaled = scaler.fit_transform(x_train)\n",
        "x_valid_scaled = scaler.transform(x_valid)\n",
        "x_test_scaled = scaler.transform(x_test)"
      ],
      "execution_count": 0,
      "outputs": []
    },
    {
      "cell_type": "code",
      "metadata": {
        "id": "l9uaKZuuKvtf",
        "colab_type": "code",
        "outputId": "23f6af5c-077b-4229-eaa1-9e6efa06acdb",
        "colab": {
          "base_uri": "https://localhost:8080/",
          "height": 340
        }
      },
      "source": [
        "# Sequential can not handle multiple inputs/architectures\n",
        "'''\n",
        "model = keras.models.Sequential([\n",
        "    keras.layers.Dense(30, activation='relu',\n",
        "                       input_shape = x_train.shape[1:]),\n",
        "    keras.layers.Dense(1),                 \n",
        "])\n",
        "'''\n",
        "# functional API\n",
        "input = keras.layers.Input(shape=x_train.shape[1:])\n",
        "hidden1 = keras.layers.Dense(30, activation='relu')(input)\n",
        "hidden2 = keras.layers.Dense(30, activation='relu')(hidden1)\n",
        "# work as functions: f(x) = h(g(x))\n",
        "# input is input for wide model and hidden2 is output of deep model\n",
        "concat = keras.layers.concatenate([input, hidden2])\n",
        "output = keras.layers.Dense(1)(concat)\n",
        "\n",
        "# return a solidated model\n",
        "model = keras.models.Model(inputs = [input],\n",
        "                           outputs = [output])\n",
        "\n",
        "model.summary()\n",
        "model.compile(loss='mean_squared_error', optimizer='adam')\n",
        "callbacks = [keras.callbacks.EarlyStopping(\n",
        "    patience=5, min_delta = 1e-2)]"
      ],
      "execution_count": 9,
      "outputs": [
        {
          "output_type": "stream",
          "text": [
            "Model: \"model_1\"\n",
            "__________________________________________________________________________________________________\n",
            "Layer (type)                    Output Shape         Param #     Connected to                     \n",
            "==================================================================================================\n",
            "input_3 (InputLayer)            [(None, 8)]          0                                            \n",
            "__________________________________________________________________________________________________\n",
            "dense_5 (Dense)                 (None, 30)           270         input_3[0][0]                    \n",
            "__________________________________________________________________________________________________\n",
            "dense_6 (Dense)                 (None, 30)           930         dense_5[0][0]                    \n",
            "__________________________________________________________________________________________________\n",
            "concatenate_1 (Concatenate)     (None, 38)           0           input_3[0][0]                    \n",
            "                                                                 dense_6[0][0]                    \n",
            "__________________________________________________________________________________________________\n",
            "dense_7 (Dense)                 (None, 1)            39          concatenate_1[0][0]              \n",
            "==================================================================================================\n",
            "Total params: 1,239\n",
            "Trainable params: 1,239\n",
            "Non-trainable params: 0\n",
            "__________________________________________________________________________________________________\n"
          ],
          "name": "stdout"
        }
      ]
    },
    {
      "cell_type": "code",
      "metadata": {
        "id": "KonwzQFBMtMr",
        "colab_type": "code",
        "outputId": "b48196eb-0cd0-4465-a389-6a22f33a1e39",
        "colab": {
          "base_uri": "https://localhost:8080/",
          "height": 952
        }
      },
      "source": [
        "history = model.fit(x_train_scaled, y_train,\n",
        "                    validation_data = (x_valid_scaled, y_valid),\n",
        "                    epochs = 100,\n",
        "                    callbacks = callbacks)"
      ],
      "execution_count": 10,
      "outputs": [
        {
          "output_type": "stream",
          "text": [
            "Train on 11610 samples, validate on 3870 samples\n",
            "Epoch 1/100\n",
            "11610/11610 [==============================] - 1s 103us/sample - loss: 1.2967 - val_loss: 0.6624\n",
            "Epoch 2/100\n",
            "11610/11610 [==============================] - 1s 75us/sample - loss: 0.5775 - val_loss: 0.4719\n",
            "Epoch 3/100\n",
            "11610/11610 [==============================] - 1s 70us/sample - loss: 0.4351 - val_loss: 0.4147\n",
            "Epoch 4/100\n",
            "11610/11610 [==============================] - 1s 71us/sample - loss: 0.4111 - val_loss: 0.3978\n",
            "Epoch 5/100\n",
            "11610/11610 [==============================] - 1s 72us/sample - loss: 0.3790 - val_loss: 0.3896\n",
            "Epoch 6/100\n",
            "11610/11610 [==============================] - 1s 71us/sample - loss: 0.3640 - val_loss: 0.3721\n",
            "Epoch 7/100\n",
            "11610/11610 [==============================] - 1s 72us/sample - loss: 0.3562 - val_loss: 0.3719\n",
            "Epoch 8/100\n",
            "11610/11610 [==============================] - 1s 70us/sample - loss: 0.3593 - val_loss: 0.3551\n",
            "Epoch 9/100\n",
            "11610/11610 [==============================] - 1s 70us/sample - loss: 0.3487 - val_loss: 0.3549\n",
            "Epoch 10/100\n",
            "11610/11610 [==============================] - 1s 67us/sample - loss: 0.3372 - val_loss: 0.3477\n",
            "Epoch 11/100\n",
            "11610/11610 [==============================] - 1s 67us/sample - loss: 0.3355 - val_loss: 0.3478\n",
            "Epoch 12/100\n",
            "11610/11610 [==============================] - 1s 71us/sample - loss: 0.3332 - val_loss: 0.3370\n",
            "Epoch 13/100\n",
            "11610/11610 [==============================] - 1s 65us/sample - loss: 0.3299 - val_loss: 0.3560\n",
            "Epoch 14/100\n",
            "11610/11610 [==============================] - 1s 67us/sample - loss: 0.3234 - val_loss: 0.3408\n",
            "Epoch 15/100\n",
            "11610/11610 [==============================] - 1s 64us/sample - loss: 0.3308 - val_loss: 0.3463\n",
            "Epoch 16/100\n",
            "11610/11610 [==============================] - 1s 67us/sample - loss: 0.3291 - val_loss: 0.3310\n",
            "Epoch 17/100\n",
            "11610/11610 [==============================] - 1s 69us/sample - loss: 0.3119 - val_loss: 0.3221\n",
            "Epoch 18/100\n",
            "11610/11610 [==============================] - 1s 67us/sample - loss: 0.3088 - val_loss: 0.3334\n",
            "Epoch 19/100\n",
            "11610/11610 [==============================] - 1s 68us/sample - loss: 0.3083 - val_loss: 0.3230\n",
            "Epoch 20/100\n",
            "11610/11610 [==============================] - 1s 67us/sample - loss: 0.3086 - val_loss: 0.3193\n",
            "Epoch 21/100\n",
            "11610/11610 [==============================] - 1s 64us/sample - loss: 0.3158 - val_loss: 0.3191\n",
            "Epoch 22/100\n",
            "11610/11610 [==============================] - 1s 67us/sample - loss: 0.3064 - val_loss: 0.3118\n",
            "Epoch 23/100\n",
            "11610/11610 [==============================] - 1s 68us/sample - loss: 0.2943 - val_loss: 0.3177\n",
            "Epoch 24/100\n",
            "11610/11610 [==============================] - 1s 67us/sample - loss: 0.2936 - val_loss: 0.3094\n",
            "Epoch 25/100\n",
            "11610/11610 [==============================] - 1s 70us/sample - loss: 0.2909 - val_loss: 0.3126\n",
            "Epoch 26/100\n",
            "11610/11610 [==============================] - 1s 69us/sample - loss: 0.2894 - val_loss: 0.3081\n",
            "Epoch 27/100\n",
            "11610/11610 [==============================] - 1s 66us/sample - loss: 0.2871 - val_loss: 0.3069\n"
          ],
          "name": "stdout"
        }
      ]
    },
    {
      "cell_type": "code",
      "metadata": {
        "id": "RwKk-GsPNIvy",
        "colab_type": "code",
        "outputId": "94aea662-428d-464b-93fa-52b0c10ad4dc",
        "colab": {
          "base_uri": "https://localhost:8080/",
          "height": 324
        }
      },
      "source": [
        "def plot_learning_curves(history):\n",
        "  pd.DataFrame(history.history).plot(figsize = (8,5))\n",
        "  plt.grid(True)\n",
        "  plt.gca().set_ylim(0,1)\n",
        "  plt.show()\n",
        "plot_learning_curves(history)"
      ],
      "execution_count": 11,
      "outputs": [
        {
          "output_type": "display_data",
          "data": {
            "image/png": "[encoded data removed]",
            "text/plain": [
              "<Figure size 576x360 with 1 Axes>"
            ]
          },
          "metadata": {
            "tags": []
          }
        }
      ]
    },
    {
      "cell_type": "code",
      "metadata": {
        "id": "IF3UQ95bNkyv",
        "colab_type": "code",
        "outputId": "d5e62974-194e-4601-fdcb-f6f1314a2e12",
        "colab": {
          "base_uri": "https://localhost:8080/",
          "height": 51
        }
      },
      "source": [
        "model.evaluate(x_test_scaled, y_test)"
      ],
      "execution_count": 12,
      "outputs": [
        {
          "output_type": "stream",
          "text": [
            "5160/5160 [==============================] - 0s 32us/sample - loss: 0.3454\n"
          ],
          "name": "stdout"
        },
        {
          "output_type": "execute_result",
          "data": {
            "text/plain": [
              "0.34538926583851953"
            ]
          },
          "metadata": {
            "tags": []
          },
          "execution_count": 12
        }
      ]
    },
    {
      "cell_type": "code",
      "metadata": {
        "id": "lh9WL_ThxCBs",
        "colab_type": "code",
        "colab": {}
      },
      "source": [
        "# Load the TensorBoard notebook extension\n",
        "%load_ext tensorboard\n",
        "%tensorboard --logdir callbacks"
      ],
      "execution_count": 0,
      "outputs": []
    }
  ]
}