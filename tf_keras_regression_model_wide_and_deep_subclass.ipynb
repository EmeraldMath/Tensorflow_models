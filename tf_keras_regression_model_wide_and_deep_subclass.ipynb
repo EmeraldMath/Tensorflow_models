{
  "nbformat": 4,
  "nbformat_minor": 0,
  "metadata": {
    "colab": {
      "name": " tf_keras_regression_model-wide_and_deep-subclass",
      "provenance": [],
      "collapsed_sections": [],
      "authorship_tag": "ABX9TyMzvn7xEbhnJyT/RAs/84l7",
      "include_colab_link": true
    },
    "kernelspec": {
      "name": "python3",
      "display_name": "Python 3"
    }
  },
  "cells": [
    {
      "cell_type": "markdown",
      "metadata": {
        "id": "view-in-github",
        "colab_type": "text"
      },
      "source": [
        "<a href=\"https://colab.research.google.com/github/EmeraldMath/Tensorflow_models/blob/master/tf_keras_regression_model_wide_and_deep_subclass.ipynb\" target=\"_parent\"><img src=\"https://colab.research.google.com/assets/colab-badge.svg\" alt=\"Open In Colab\"/></a>"
      ]
    },
    {
      "cell_type": "code",
      "metadata": {
        "id": "1qTaQkiL_QP3",
        "colab_type": "code",
        "colab": {
          "base_uri": "https://localhost:8080/",
          "height": 153
        },
        "outputId": "62cac67b-6c37-43ad-8311-6f6a5bab44d2"
      },
      "source": [
        "%tensorflow_version 2.x\n",
        "import matplotlib as mpl\n",
        "import matplotlib.pyplot as plt\n",
        "%matplotlib inline\n",
        "import numpy as np\n",
        "import sklearn\n",
        "import pandas as pd\n",
        "import os\n",
        "import sys\n",
        "import time\n",
        "import tensorflow as tf\n",
        "\n",
        "from tensorflow import keras\n",
        "\n",
        "print(tf.__version__)\n",
        "print(sys.version_info)\n",
        "for module in mpl, np, pd, sklearn, tf, keras:\n",
        "    print(module.__name__, module.__version__)"
      ],
      "execution_count": 6,
      "outputs": [
        {
          "output_type": "stream",
          "text": [
            "2.1.0\n",
            "sys.version_info(major=3, minor=6, micro=9, releaselevel='final', serial=0)\n",
            "matplotlib 3.1.2\n",
            "numpy 1.17.5\n",
            "pandas 0.25.3\n",
            "sklearn 0.22.1\n",
            "tensorflow 2.1.0\n",
            "tensorflow_core.keras 2.2.4-tf\n"
          ],
          "name": "stdout"
        }
      ]
    },
    {
      "cell_type": "code",
      "metadata": {
        "id": "saB-LVmq_T6P",
        "colab_type": "code",
        "colab": {
          "base_uri": "https://localhost:8080/",
          "height": 748
        },
        "outputId": "ebe30d1b-1e1e-4e6a-dcc0-fbfedbdb2173"
      },
      "source": [
        "from sklearn.datasets import fetch_california_housing\n",
        "\n",
        "housing = fetch_california_housing()\n",
        "print(housing.DESCR)\n",
        "print(housing.data.shape)\n",
        "print(housing.target.shape)"
      ],
      "execution_count": 7,
      "outputs": [
        {
          "output_type": "stream",
          "text": [
            ".. _california_housing_dataset:\n",
            "\n",
            "California Housing dataset\n",
            "--------------------------\n",
            "\n",
            "**Data Set Characteristics:**\n",
            "\n",
            "    :Number of Instances: 20640\n",
            "\n",
            "    :Number of Attributes: 8 numeric, predictive attributes and the target\n",
            "\n",
            "    :Attribute Information:\n",
            "        - MedInc        median income in block\n",
            "        - HouseAge      median house age in block\n",
            "        - AveRooms      average number of rooms\n",
            "        - AveBedrms     average number of bedrooms\n",
            "        - Population    block population\n",
            "        - AveOccup      average house occupancy\n",
            "        - Latitude      house block latitude\n",
            "        - Longitude     house block longitude\n",
            "\n",
            "    :Missing Attribute Values: None\n",
            "\n",
            "This dataset was obtained from the StatLib repository.\n",
            "http://lib.stat.cmu.edu/datasets/\n",
            "\n",
            "The target variable is the median house value for California districts.\n",
            "\n",
            "This dataset was derived from the 1990 U.S. census, using one row per census\n",
            "block group. A block group is the smallest geographical unit for which the U.S.\n",
            "Census Bureau publishes sample data (a block group typically has a population\n",
            "of 600 to 3,000 people).\n",
            "\n",
            "It can be downloaded/loaded using the\n",
            ":func:`sklearn.datasets.fetch_california_housing` function.\n",
            "\n",
            ".. topic:: References\n",
            "\n",
            "    - Pace, R. Kelley and Ronald Barry, Sparse Spatial Autoregressions,\n",
            "      Statistics and Probability Letters, 33 (1997) 291-297\n",
            "\n",
            "(20640, 8)\n",
            "(20640,)\n"
          ],
          "name": "stdout"
        }
      ]
    },
    {
      "cell_type": "code",
      "metadata": {
        "id": "JYWEvKM4JrZZ",
        "colab_type": "code",
        "colab": {
          "base_uri": "https://localhost:8080/",
          "height": 68
        },
        "outputId": "e7d3908a-38d6-4d54-cfdd-8377c1486fdb"
      },
      "source": [
        "from sklearn.model_selection import train_test_split\n",
        "\n",
        "x_train_all, x_test, y_train_all, y_test = train_test_split(\n",
        "    housing.data, housing.target, random_state = 7) #default test_size = 0.25\n",
        "x_train, x_valid, y_train, y_valid = train_test_split(\n",
        "    x_train_all, y_train_all, random_state = 11)\n",
        "print(x_train.shape, y_train.shape)\n",
        "print(x_valid.shape, y_valid.shape)\n",
        "print(x_test.shape, y_test.shape)"
      ],
      "execution_count": 8,
      "outputs": [
        {
          "output_type": "stream",
          "text": [
            "(11610, 8) (11610,)\n",
            "(3870, 8) (3870,)\n",
            "(5160, 8) (5160,)\n"
          ],
          "name": "stdout"
        }
      ]
    },
    {
      "cell_type": "code",
      "metadata": {
        "id": "5iC77xYJKYs5",
        "colab_type": "code",
        "colab": {}
      },
      "source": [
        "from sklearn.preprocessing import StandardScaler\n",
        "\n",
        "scaler = StandardScaler()\n",
        "x_train_scaled = scaler.fit_transform(x_train)\n",
        "x_valid_scaled = scaler.transform(x_valid)\n",
        "x_test_scaled = scaler.transform(x_test)"
      ],
      "execution_count": 0,
      "outputs": []
    },
    {
      "cell_type": "code",
      "metadata": {
        "id": "l9uaKZuuKvtf",
        "colab_type": "code",
        "colab": {
          "base_uri": "https://localhost:8080/",
          "height": 255
        },
        "outputId": "df17f768-cee2-415a-c81f-d620fa507bdd"
      },
      "source": [
        "# subclass API\n",
        "\n",
        "class WideDeepModel(keras.models.Model):\n",
        "    def __init__(self):\n",
        "        super(WideDeepModel, self).__init__()\n",
        "        '''define model architecture'''\n",
        "        self.hidden1_layer = keras.layers.Dense(30, activation='relu')\n",
        "        self.hidden2_layer = keras.layers.Dense(30, activation='relu')\n",
        "        self.output_layer = keras.layers.Dense(1)\n",
        "\n",
        "    def call(self, input):\n",
        "      '''forward feed'''\n",
        "      hidden1 = self.hidden1_layer(input)\n",
        "      hidden2 = self.hidden2_layer(hidden1)\n",
        "      concat = keras.layers.concatenate([input, hidden2])\n",
        "      output = self.output_layer(concat)\n",
        "      return output\n",
        "model = WideDeepModel()\n",
        "# following is an alternative way of model = WideDeepModel()\n",
        "# it will give different output of model.summary()\n",
        "'''\n",
        "model = keras.models.Sequential([\n",
        "    WideDeepModel(),\n",
        "])\n",
        "'''\n",
        "# None is #samples, 8 is #input features\n",
        "model.build(input_shape=(None, 8))\n",
        "\n",
        "\n",
        "model.summary()\n",
        "model.compile(loss='mean_squared_error', optimizer='adam')\n",
        "callbacks = [keras.callbacks.EarlyStopping(\n",
        "    patience=5, min_delta = 1e-2)]"
      ],
      "execution_count": 13,
      "outputs": [
        {
          "output_type": "stream",
          "text": [
            "Model: \"wide_deep_model_3\"\n",
            "_________________________________________________________________\n",
            "Layer (type)                 Output Shape              Param #   \n",
            "=================================================================\n",
            "dense_9 (Dense)              multiple                  270       \n",
            "_________________________________________________________________\n",
            "dense_10 (Dense)             multiple                  930       \n",
            "_________________________________________________________________\n",
            "dense_11 (Dense)             multiple                  39        \n",
            "=================================================================\n",
            "Total params: 1,239\n",
            "Trainable params: 1,239\n",
            "Non-trainable params: 0\n",
            "_________________________________________________________________\n"
          ],
          "name": "stdout"
        }
      ]
    },
    {
      "cell_type": "code",
      "metadata": {
        "id": "KonwzQFBMtMr",
        "colab_type": "code",
        "colab": {
          "base_uri": "https://localhost:8080/",
          "height": 646
        },
        "outputId": "a46df996-2ce1-44f1-c540-dc6b988165d6"
      },
      "source": [
        "history = model.fit(x_train_scaled, y_train,\n",
        "                    validation_data = (x_valid_scaled, y_valid),\n",
        "                    epochs = 100,\n",
        "                    callbacks = callbacks)"
      ],
      "execution_count": 14,
      "outputs": [
        {
          "output_type": "stream",
          "text": [
            "Train on 11610 samples, validate on 3870 samples\n",
            "Epoch 1/100\n",
            "11610/11610 [==============================] - 1s 93us/sample - loss: 1.0143 - val_loss: 0.5711\n",
            "Epoch 2/100\n",
            "11610/11610 [==============================] - 1s 69us/sample - loss: 0.4574 - val_loss: 0.4350\n",
            "Epoch 3/100\n",
            "11610/11610 [==============================] - 1s 66us/sample - loss: 0.4025 - val_loss: 0.4070\n",
            "Epoch 4/100\n",
            "11610/11610 [==============================] - 1s 65us/sample - loss: 0.3854 - val_loss: 0.4351\n",
            "Epoch 5/100\n",
            "11610/11610 [==============================] - 1s 65us/sample - loss: 0.3932 - val_loss: 0.3936\n",
            "Epoch 6/100\n",
            "11610/11610 [==============================] - 1s 67us/sample - loss: 0.3746 - val_loss: 0.3755\n",
            "Epoch 7/100\n",
            "11610/11610 [==============================] - 1s 66us/sample - loss: 0.3623 - val_loss: 0.3663\n",
            "Epoch 8/100\n",
            "11610/11610 [==============================] - 1s 68us/sample - loss: 0.3546 - val_loss: 0.3618\n",
            "Epoch 9/100\n",
            "11610/11610 [==============================] - 1s 67us/sample - loss: 0.3497 - val_loss: 0.3522\n",
            "Epoch 10/100\n",
            "11610/11610 [==============================] - 1s 67us/sample - loss: 0.3396 - val_loss: 0.3461\n",
            "Epoch 11/100\n",
            "11610/11610 [==============================] - 1s 64us/sample - loss: 0.3411 - val_loss: 0.3364\n",
            "Epoch 12/100\n",
            "11610/11610 [==============================] - 1s 66us/sample - loss: 0.3323 - val_loss: 0.3485\n",
            "Epoch 13/100\n",
            "11610/11610 [==============================] - 1s 67us/sample - loss: 0.3418 - val_loss: 0.3301\n",
            "Epoch 14/100\n",
            "11610/11610 [==============================] - 1s 67us/sample - loss: 0.3313 - val_loss: 0.3387\n",
            "Epoch 15/100\n",
            "11610/11610 [==============================] - 1s 67us/sample - loss: 0.3142 - val_loss: 0.3214\n",
            "Epoch 16/100\n",
            "11610/11610 [==============================] - 1s 67us/sample - loss: 0.3178 - val_loss: 0.3223\n",
            "Epoch 17/100\n",
            "11610/11610 [==============================] - 1s 68us/sample - loss: 0.3153 - val_loss: 0.3229\n",
            "Epoch 18/100\n",
            "11610/11610 [==============================] - 1s 65us/sample - loss: 0.3145 - val_loss: 0.3237\n"
          ],
          "name": "stdout"
        }
      ]
    },
    {
      "cell_type": "code",
      "metadata": {
        "id": "RwKk-GsPNIvy",
        "colab_type": "code",
        "colab": {
          "base_uri": "https://localhost:8080/",
          "height": 324
        },
        "outputId": "9a16cbdd-099d-476f-d529-0f3443951351"
      },
      "source": [
        "def plot_learning_curves(history):\n",
        "  pd.DataFrame(history.history).plot(figsize = (8,5))\n",
        "  plt.grid(True)\n",
        "  plt.gca().set_ylim(0,1)\n",
        "  plt.show()\n",
        "plot_learning_curves(history)"
      ],
      "execution_count": 15,
      "outputs": [
        {
          "output_type": "display_data",
          "data": {
            "image/png": "[encoded data removed]",
            "text/plain": [
              "<Figure size 576x360 with 1 Axes>"
            ]
          },
          "metadata": {
            "tags": []
          }
        }
      ]
    },
    {
      "cell_type": "code",
      "metadata": {
        "id": "IF3UQ95bNkyv",
        "colab_type": "code",
        "colab": {
          "base_uri": "https://localhost:8080/",
          "height": 51
        },
        "outputId": "cb352c1d-9867-4e37-90e5-3ad8eb666188"
      },
      "source": [
        "model.evaluate(x_test_scaled, y_test)"
      ],
      "execution_count": 16,
      "outputs": [
        {
          "output_type": "stream",
          "text": [
            "5160/5160 [==============================] - 0s 33us/sample - loss: 0.3282\n"
          ],
          "name": "stdout"
        },
        {
          "output_type": "execute_result",
          "data": {
            "text/plain": [
              "0.3282101468522419"
            ]
          },
          "metadata": {
            "tags": []
          },
          "execution_count": 16
        }
      ]
    },
    {
      "cell_type": "code",
      "metadata": {
        "id": "lh9WL_ThxCBs",
        "colab_type": "code",
        "colab": {}
      },
      "source": [
        "# Load the TensorBoard notebook extension\n",
        "%load_ext tensorboard\n",
        "%tensorboard --logdir callbacks"
      ],
      "execution_count": 0,
      "outputs": []
    }
  ]
}