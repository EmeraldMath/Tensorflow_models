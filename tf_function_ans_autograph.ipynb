{
  "nbformat": 4,
  "nbformat_minor": 0,
  "metadata": {
    "colab": {
      "name": "tf_function_ans_autograph.ipynb",
      "provenance": [],
      "authorship_tag": "ABX9TyNQ5KZmlmRsAxqP+WDBlaJv",
      "include_colab_link": true
    },
    "kernelspec": {
      "name": "python3",
      "display_name": "Python 3"
    }
  },
  "cells": [
    {
      "cell_type": "markdown",
      "metadata": {
        "id": "view-in-github",
        "colab_type": "text"
      },
      "source": [
        "<a href=\"https://colab.research.google.com/github/EmeraldMath/Tensorflow_models/blob/master/tf_function_ans_autograph.ipynb\" target=\"_parent\"><img src=\"https://colab.research.google.com/assets/colab-badge.svg\" alt=\"Open In Colab\"/></a>"
      ]
    },
    {
      "cell_type": "code",
      "metadata": {
        "id": "Q3D2WvWCID16",
        "colab_type": "code",
        "colab": {
          "base_uri": "https://localhost:8080/",
          "height": 153
        },
        "outputId": "d9b02e1c-34f9-44dd-f1c5-f96dcc8aea5c"
      },
      "source": [
        "%tensorflow_version 2.x\n",
        "import matplotlib as mpl\n",
        "import matplotlib.pyplot as plt\n",
        "%matplotlib inline\n",
        "import numpy as np\n",
        "import sklearn\n",
        "import pandas as pd\n",
        "import os\n",
        "import sys\n",
        "import time\n",
        "import tensorflow as tf\n",
        "\n",
        "from tensorflow import keras\n",
        "\n",
        "print(tf.__version__)\n",
        "print(sys.version_info)\n",
        "for module in mpl, np, pd, sklearn, tf, keras:\n",
        "    print(module.__name__, module.__version__)"
      ],
      "execution_count": 18,
      "outputs": [
        {
          "output_type": "stream",
          "text": [
            "2.1.0\n",
            "sys.version_info(major=3, minor=6, micro=9, releaselevel='final', serial=0)\n",
            "matplotlib 3.1.3\n",
            "numpy 1.17.5\n",
            "pandas 0.25.3\n",
            "sklearn 0.22.1\n",
            "tensorflow 2.1.0\n",
            "tensorflow_core.keras 2.2.4-tf\n"
          ],
          "name": "stdout"
        }
      ]
    },
    {
      "cell_type": "code",
      "metadata": {
        "id": "P9yxU3kcILV8",
        "colab_type": "code",
        "colab": {
          "base_uri": "https://localhost:8080/",
          "height": 102
        },
        "outputId": "d1d6c426-96be-4274-9dbd-8689da289812"
      },
      "source": [
        "# tf.function and autograph\n",
        "def scaled_elu(z, scale=1.0, alpha=1.0):\n",
        "    # z >= 0? scale * z : scle * alpha * tf.nn.elu(z)\n",
        "    is_positive = tf.greater_equal(z, 0.0)\n",
        "    return scale * tf.where(is_positive, z, alpha * tf.nn.elu(z))\n",
        "\n",
        "print(scaled_elu(tf.constant(-3.)))\n",
        "print(scaled_elu(tf.constant([-2.0, -2.5])))\n",
        "\n",
        "scaled_elu_tf = tf.function(scaled_elu)\n",
        "print(scaled_elu_tf(tf.constant(-3.)))\n",
        "print(scaled_elu_tf(tf.constant([-2.0, -2.5])))\n",
        "\n",
        "print(scaled_elu_tf.python_function is scaled_elu)"
      ],
      "execution_count": 19,
      "outputs": [
        {
          "output_type": "stream",
          "text": [
            "tf.Tensor(-0.95021296, shape=(), dtype=float32)\n",
            "tf.Tensor([-0.86466473 -0.917915  ], shape=(2,), dtype=float32)\n",
            "tf.Tensor(-0.95021296, shape=(), dtype=float32)\n",
            "tf.Tensor([-0.86466473 -0.917915  ], shape=(2,), dtype=float32)\n",
            "True\n"
          ],
          "name": "stdout"
        }
      ]
    },
    {
      "cell_type": "code",
      "metadata": {
        "id": "jKXYi3RXI6TU",
        "colab_type": "code",
        "colab": {
          "base_uri": "https://localhost:8080/",
          "height": 51
        },
        "outputId": "36c674a2-e474-4f28-b3e9-524e07561176"
      },
      "source": [
        "%timeit scaled_elu(tf.random.normal((1000, 1000)))\n",
        "%timeit scaled_elu_tf(tf.random.normal((1000, 1000)))"
      ],
      "execution_count": 20,
      "outputs": [
        {
          "output_type": "stream",
          "text": [
            "10 loops, best of 3: 27 ms per loop\n",
            "10 loops, best of 3: 26.8 ms per loop\n"
          ],
          "name": "stdout"
        }
      ]
    },
    {
      "cell_type": "code",
      "metadata": {
        "id": "jCfQnpFvJwvD",
        "colab_type": "code",
        "colab": {
          "base_uri": "https://localhost:8080/",
          "height": 34
        },
        "outputId": "64e281c5-9611-4644-c571-d03565aba80c"
      },
      "source": [
        "# 1 + 1/2 + 1/2^2 + ... + 1/2^n\n",
        "@tf.function\n",
        "def converge_to_2(n_iters):\n",
        "    total = tf.constant(0.)\n",
        "    increment = tf.constant(1.)\n",
        "    for _ in range(n_iters):\n",
        "        total += increment\n",
        "        increment /= 2.0\n",
        "    return total\n",
        "\n",
        "print(converge_to_2(20))"
      ],
      "execution_count": 21,
      "outputs": [
        {
          "output_type": "stream",
          "text": [
            "tf.Tensor(1.9999981, shape=(), dtype=float32)\n"
          ],
          "name": "stdout"
        }
      ]
    },
    {
      "cell_type": "code",
      "metadata": {
        "id": "Kxsx7ELiKZGR",
        "colab_type": "code",
        "colab": {}
      },
      "source": [
        "# convert python function into immediate code for autograph (tf code which can generate autograph)\n",
        "def display_tf_code(func):\n",
        "    code = tf.autograph.to_code(func)\n",
        "    from IPython.display import display, Markdown\n",
        "    display(Markdown('```python\\n{}\\n```'.format(code)))"
      ],
      "execution_count": 0,
      "outputs": []
    },
    {
      "cell_type": "code",
      "metadata": {
        "id": "xX1tG1nEK2WQ",
        "colab_type": "code",
        "colab": {
          "base_uri": "https://localhost:8080/",
          "height": 34
        },
        "outputId": "da8446be-fc0d-4da1-adb8-02738a3d944a"
      },
      "source": [
        "display_tf_code(scaled_elu)"
      ],
      "execution_count": 23,
      "outputs": [
        {
          "output_type": "display_data",
          "data": {
            "text/markdown": "```python\ndef tf__scaled_elu(z, scale=None, alpha=None):\n  do_return = False\n  retval_ = ag__.UndefinedReturnValue()\n  with ag__.FunctionScope('scaled_elu', 'fscope', ag__.ConversionOptions(recursive=True, user_requested=True, optional_features=(), internal_convert_user_code=True)) as fscope:\n    is_positive = ag__.converted_call(tf.greater_equal, (z, 0.0), None, fscope)\n    do_return = True\n    retval_ = fscope.mark_return_value(scale * ag__.converted_call(tf.where, (is_positive, z, alpha * ag__.converted_call(tf.nn.elu, (z,), None, fscope)), None, fscope))\n  do_return,\n  return ag__.retval(retval_)\n\n```",
            "text/plain": [
              "<IPython.core.display.Markdown object>"
            ]
          },
          "metadata": {
            "tags": []
          }
        }
      ]
    },
    {
      "cell_type": "code",
      "metadata": {
        "id": "A3hhaoAvK6Gx",
        "colab_type": "code",
        "colab": {
          "base_uri": "https://localhost:8080/",
          "height": 34
        },
        "outputId": "4b03de93-65da-4129-e77c-405f21bee8a3"
      },
      "source": [
        "var = tf.Variable(0.)\n",
        "\n",
        "@tf.function\n",
        "def add_21():\n",
        "    return var.assign_add(21) #+=\n",
        "\n",
        "print(add_21())"
      ],
      "execution_count": 25,
      "outputs": [
        {
          "output_type": "stream",
          "text": [
            "tf.Tensor(21.0, shape=(), dtype=float32)\n"
          ],
          "name": "stdout"
        }
      ]
    },
    {
      "cell_type": "code",
      "metadata": {
        "id": "uYpzfO38eTKu",
        "colab_type": "code",
        "colab": {
          "base_uri": "https://localhost:8080/",
          "height": 119
        },
        "outputId": "a00c42a4-a793-4ccf-8969-97131b5cc98b"
      },
      "source": [
        "# in order to save model, function signature is necessary\n",
        "@tf.function(input_signature=[tf.TensorSpec([None], tf.int32, name='x')])\n",
        "def cube(z):\n",
        "    return tf.pow(z, 3)\n",
        "\n",
        "try:\n",
        "    print(cube(tf.constant([1., 2., 3.])))\n",
        "except ValueError as ex:\n",
        "    print(ex)\n",
        "print(cube(tf.constant([1, 2, 3])))"
      ],
      "execution_count": 29,
      "outputs": [
        {
          "output_type": "stream",
          "text": [
            "Python inputs incompatible with input_signature:\n",
            "  inputs: (\n",
            "    tf.Tensor([1. 2. 3.], shape=(3,), dtype=float32))\n",
            "  input_signature: (\n",
            "    TensorSpec(shape=(None,), dtype=tf.int32, name='x'))\n",
            "tf.Tensor([ 1  8 27], shape=(3,), dtype=int32)\n"
          ],
          "name": "stdout"
        }
      ]
    },
    {
      "cell_type": "code",
      "metadata": {
        "id": "SFCOn7vngOcc",
        "colab_type": "code",
        "colab": {
          "base_uri": "https://localhost:8080/",
          "height": 34
        },
        "outputId": "cf9f7bee-7015-4417-dca8-40cbab41f1dd"
      },
      "source": [
        "# @tf.function py fun -> tf graph\n",
        "# get_concrete_function -> add input signature -> SaveModel\n",
        "\n",
        "cube_func_int32 = cube.get_concrete_function(\n",
        "    tf.TensorSpec([None], tf.int32))\n",
        "print(cube_func_int32)"
      ],
      "execution_count": 31,
      "outputs": [
        {
          "output_type": "stream",
          "text": [
            "<tensorflow.python.eager.function.ConcreteFunction object at 0x7f9165f149b0>\n"
          ],
          "name": "stdout"
        }
      ]
    },
    {
      "cell_type": "code",
      "metadata": {
        "id": "cYCd7JuVhvLl",
        "colab_type": "code",
        "colab": {
          "base_uri": "https://localhost:8080/",
          "height": 51
        },
        "outputId": "1866c6e3-cf93-41ec-944f-5481e2394b41"
      },
      "source": [
        "print(cube_func_int32 is cube.get_concrete_function(\n",
        "    tf.TensorSpec([5], tf.int32)))\n",
        "print(cube_func_int32 is cube.get_concrete_function(\n",
        "    tf.constant([1, 2, 3])))"
      ],
      "execution_count": 33,
      "outputs": [
        {
          "output_type": "stream",
          "text": [
            "True\n",
            "True\n"
          ],
          "name": "stdout"
        }
      ]
    },
    {
      "cell_type": "code",
      "metadata": {
        "id": "PykmyrIGij-c",
        "colab_type": "code",
        "colab": {
          "base_uri": "https://localhost:8080/",
          "height": 34
        },
        "outputId": "44e570e5-2598-4bb8-a6aa-182db2598bcf"
      },
      "source": [
        "cube_func_int32.graph"
      ],
      "execution_count": 34,
      "outputs": [
        {
          "output_type": "execute_result",
          "data": {
            "text/plain": [
              "<tensorflow.python.framework.func_graph.FuncGraph at 0x7f9165eafeb8>"
            ]
          },
          "metadata": {
            "tags": []
          },
          "execution_count": 34
        }
      ]
    },
    {
      "cell_type": "code",
      "metadata": {
        "id": "8rWzDMdpi_NB",
        "colab_type": "code",
        "colab": {
          "base_uri": "https://localhost:8080/",
          "height": 85
        },
        "outputId": "22a60a68-2609-4f7c-e2eb-8a81001b0a1c"
      },
      "source": [
        "cube_func_int32.graph.get_operations()"
      ],
      "execution_count": 35,
      "outputs": [
        {
          "output_type": "execute_result",
          "data": {
            "text/plain": [
              "[<tf.Operation 'x' type=Placeholder>,\n",
              " <tf.Operation 'Pow/y' type=Const>,\n",
              " <tf.Operation 'Pow' type=Pow>,\n",
              " <tf.Operation 'Identity' type=Identity>]"
            ]
          },
          "metadata": {
            "tags": []
          },
          "execution_count": 35
        }
      ]
    },
    {
      "cell_type": "code",
      "metadata": {
        "id": "-BOvU182jrpD",
        "colab_type": "code",
        "colab": {
          "base_uri": "https://localhost:8080/",
          "height": 204
        },
        "outputId": "01d4a644-a3eb-4199-e6c3-8490fc694e9c"
      },
      "source": [
        "pow_op = cube_func_int32.graph.get_operations()[2]\n",
        "print(pow_op)"
      ],
      "execution_count": 37,
      "outputs": [
        {
          "output_type": "stream",
          "text": [
            "name: \"Pow\"\n",
            "op: \"Pow\"\n",
            "input: \"x\"\n",
            "input: \"Pow/y\"\n",
            "attr {\n",
            "  key: \"T\"\n",
            "  value {\n",
            "    type: DT_INT32\n",
            "  }\n",
            "}\n",
            "\n"
          ],
          "name": "stdout"
        }
      ]
    },
    {
      "cell_type": "code",
      "metadata": {
        "id": "je46zDqZj0n0",
        "colab_type": "code",
        "colab": {
          "base_uri": "https://localhost:8080/",
          "height": 51
        },
        "outputId": "bad562ac-c2b4-48a6-c153-6329fadb93f3"
      },
      "source": [
        "print(list(pow_op.inputs))\n",
        "print(list(pow_op.outputs))"
      ],
      "execution_count": 38,
      "outputs": [
        {
          "output_type": "stream",
          "text": [
            "[<tf.Tensor 'x:0' shape=(None,) dtype=int32>, <tf.Tensor 'Pow/y:0' shape=() dtype=int32>]\n",
            "[<tf.Tensor 'Pow:0' shape=(None,) dtype=int32>]\n"
          ],
          "name": "stdout"
        }
      ]
    },
    {
      "cell_type": "code",
      "metadata": {
        "id": "aDBKwpxyj9ap",
        "colab_type": "code",
        "colab": {
          "base_uri": "https://localhost:8080/",
          "height": 34
        },
        "outputId": "bb941728-fe05-4625-a1f6-e6f7b5628977"
      },
      "source": [
        "cube_func_int32.graph.get_operation_by_name('x')"
      ],
      "execution_count": 39,
      "outputs": [
        {
          "output_type": "execute_result",
          "data": {
            "text/plain": [
              "<tf.Operation 'x' type=Placeholder>"
            ]
          },
          "metadata": {
            "tags": []
          },
          "execution_count": 39
        }
      ]
    },
    {
      "cell_type": "code",
      "metadata": {
        "id": "ISjV25XtkcCJ",
        "colab_type": "code",
        "colab": {
          "base_uri": "https://localhost:8080/",
          "height": 34
        },
        "outputId": "72aadb91-cc61-4755-fb9b-606679ba6842"
      },
      "source": [
        "cube_func_int32.graph.get_tensor_by_name(\"x:0\")"
      ],
      "execution_count": 40,
      "outputs": [
        {
          "output_type": "execute_result",
          "data": {
            "text/plain": [
              "<tf.Tensor 'x:0' shape=(None,) dtype=int32>"
            ]
          },
          "metadata": {
            "tags": []
          },
          "execution_count": 40
        }
      ]
    },
    {
      "cell_type": "code",
      "metadata": {
        "id": "gPfGtWpWlAeW",
        "colab_type": "code",
        "colab": {
          "base_uri": "https://localhost:8080/",
          "height": 1000
        },
        "outputId": "56fbfa7b-6fe0-489f-dc85-dfd69524b5fa"
      },
      "source": [
        "cube_func_int32.graph.as_graph_def()"
      ],
      "execution_count": 41,
      "outputs": [
        {
          "output_type": "execute_result",
          "data": {
            "text/plain": [
              "node {\n",
              "  name: \"x\"\n",
              "  op: \"Placeholder\"\n",
              "  attr {\n",
              "    key: \"_user_specified_name\"\n",
              "    value {\n",
              "      s: \"x\"\n",
              "    }\n",
              "  }\n",
              "  attr {\n",
              "    key: \"dtype\"\n",
              "    value {\n",
              "      type: DT_INT32\n",
              "    }\n",
              "  }\n",
              "  attr {\n",
              "    key: \"shape\"\n",
              "    value {\n",
              "      shape {\n",
              "        dim {\n",
              "          size: -1\n",
              "        }\n",
              "      }\n",
              "    }\n",
              "  }\n",
              "}\n",
              "node {\n",
              "  name: \"Pow/y\"\n",
              "  op: \"Const\"\n",
              "  attr {\n",
              "    key: \"dtype\"\n",
              "    value {\n",
              "      type: DT_INT32\n",
              "    }\n",
              "  }\n",
              "  attr {\n",
              "    key: \"value\"\n",
              "    value {\n",
              "      tensor {\n",
              "        dtype: DT_INT32\n",
              "        tensor_shape {\n",
              "        }\n",
              "        int_val: 3\n",
              "      }\n",
              "    }\n",
              "  }\n",
              "}\n",
              "node {\n",
              "  name: \"Pow\"\n",
              "  op: \"Pow\"\n",
              "  input: \"x\"\n",
              "  input: \"Pow/y\"\n",
              "  attr {\n",
              "    key: \"T\"\n",
              "    value {\n",
              "      type: DT_INT32\n",
              "    }\n",
              "  }\n",
              "}\n",
              "node {\n",
              "  name: \"Identity\"\n",
              "  op: \"Identity\"\n",
              "  input: \"Pow\"\n",
              "  attr {\n",
              "    key: \"T\"\n",
              "    value {\n",
              "      type: DT_INT32\n",
              "    }\n",
              "  }\n",
              "}\n",
              "versions {\n",
              "  producer: 175\n",
              "}"
            ]
          },
          "metadata": {
            "tags": []
          },
          "execution_count": 41
        }
      ]
    }
  ]
}