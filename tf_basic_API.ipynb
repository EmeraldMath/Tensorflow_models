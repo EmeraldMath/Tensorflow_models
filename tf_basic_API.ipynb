{
  "nbformat": 4,
  "nbformat_minor": 0,
  "metadata": {
    "colab": {
      "name": "tf_basic_API.ipynb",
      "provenance": [],
      "authorship_tag": "ABX9TyPsKNk6JNuOsl/SyyU1Et+9",
      "include_colab_link": true
    },
    "kernelspec": {
      "name": "python3",
      "display_name": "Python 3"
    }
  },
  "cells": [
    {
      "cell_type": "markdown",
      "metadata": {
        "id": "view-in-github",
        "colab_type": "text"
      },
      "source": [
        "<a href=\"https://colab.research.google.com/github/EmeraldMath/Tensorflow_models/blob/master/tf_basic_API.ipynb\" target=\"_parent\"><img src=\"https://colab.research.google.com/assets/colab-badge.svg\" alt=\"Open In Colab\"/></a>"
      ]
    },
    {
      "cell_type": "code",
      "metadata": {
        "id": "cgow9RDwdJ4d",
        "colab_type": "code",
        "colab": {
          "base_uri": "https://localhost:8080/",
          "height": 170
        },
        "outputId": "58b815c2-bdd0-4593-fa0d-b0700f368688"
      },
      "source": [
        "%tensorflow_version 2.x\n",
        "import matplotlib as mpl\n",
        "import matplotlib.pyplot as plt\n",
        "%matplotlib inline\n",
        "import numpy as np\n",
        "import sklearn\n",
        "import pandas as pd\n",
        "import os\n",
        "import sys\n",
        "import time\n",
        "import tensorflow as tf\n",
        "\n",
        "from tensorflow import keras\n",
        "\n",
        "print(tf.__version__)\n",
        "print(sys.version_info)\n",
        "for module in mpl, np, pd, sklearn, tf, keras:\n",
        "    print(module.__name__, module.__version__)"
      ],
      "execution_count": 1,
      "outputs": [
        {
          "output_type": "stream",
          "text": [
            "TensorFlow 2.x selected.\n",
            "2.1.0\n",
            "sys.version_info(major=3, minor=6, micro=9, releaselevel='final', serial=0)\n",
            "matplotlib 3.1.3\n",
            "numpy 1.17.5\n",
            "pandas 0.25.3\n",
            "sklearn 0.22.1\n",
            "tensorflow 2.1.0\n",
            "tensorflow_core.python.keras.api._v2.keras 2.2.4-tf\n"
          ],
          "name": "stdout"
        }
      ]
    },
    {
      "cell_type": "code",
      "metadata": {
        "id": "KZAEnkXWdS8d",
        "colab_type": "code",
        "colab": {
          "base_uri": "https://localhost:8080/",
          "height": 136
        },
        "outputId": "c6739aac-46d4-4177-b207-d7570bc57fdf"
      },
      "source": [
        "t = tf.constant([[1., 2., 3.], [4., 5., 6.]])\n",
        "# index\n",
        "print(t)\n",
        "print(t[:, 1:])\n",
        "print(t[..., 1])"
      ],
      "execution_count": 2,
      "outputs": [
        {
          "output_type": "stream",
          "text": [
            "tf.Tensor(\n",
            "[[1. 2. 3.]\n",
            " [4. 5. 6.]], shape=(2, 3), dtype=float32)\n",
            "tf.Tensor(\n",
            "[[2. 3.]\n",
            " [5. 6.]], shape=(2, 2), dtype=float32)\n",
            "tf.Tensor([2. 5.], shape=(2,), dtype=float32)\n"
          ],
          "name": "stdout"
        }
      ]
    },
    {
      "cell_type": "code",
      "metadata": {
        "id": "CertB6AfdyC5",
        "colab_type": "code",
        "colab": {
          "base_uri": "https://localhost:8080/",
          "height": 170
        },
        "outputId": "5c9c7324-8bf2-4128-fb84-db473e921ce3"
      },
      "source": [
        "# ops\n",
        "print(t+10)\n",
        "print(tf.square(t))\n",
        "# t * t'\n",
        "print(t @ tf.transpose(t))"
      ],
      "execution_count": 3,
      "outputs": [
        {
          "output_type": "stream",
          "text": [
            "tf.Tensor(\n",
            "[[11. 12. 13.]\n",
            " [14. 15. 16.]], shape=(2, 3), dtype=float32)\n",
            "tf.Tensor(\n",
            "[[ 1.  4.  9.]\n",
            " [16. 25. 36.]], shape=(2, 3), dtype=float32)\n",
            "tf.Tensor(\n",
            "[[14. 32.]\n",
            " [32. 77.]], shape=(2, 2), dtype=float32)\n"
          ],
          "name": "stdout"
        }
      ]
    },
    {
      "cell_type": "code",
      "metadata": {
        "id": "p8y7Zy4VeC1Z",
        "colab_type": "code",
        "colab": {
          "base_uri": "https://localhost:8080/",
          "height": 170
        },
        "outputId": "d6db418c-7f43-409c-8d4e-848cc3fff09d"
      },
      "source": [
        "# numpy conversion\n",
        "print(t.numpy())\n",
        "print(type(t.numpy()))\n",
        "print(np.square(t))\n",
        "print(type(np.square(t)))\n",
        "np_t = np.array([[1., 2., 3.], [4., 5., 6.]])\n",
        "print(tf.constant(np_t))"
      ],
      "execution_count": 8,
      "outputs": [
        {
          "output_type": "stream",
          "text": [
            "[[1. 2. 3.]\n",
            " [4. 5. 6.]]\n",
            "<class 'numpy.ndarray'>\n",
            "[[ 1.  4.  9.]\n",
            " [16. 25. 36.]]\n",
            "<class 'numpy.ndarray'>\n",
            "tf.Tensor(\n",
            "[[1. 2. 3.]\n",
            " [4. 5. 6.]], shape=(2, 3), dtype=float64)\n"
          ],
          "name": "stdout"
        }
      ]
    },
    {
      "cell_type": "code",
      "metadata": {
        "id": "uPXqWQUIeqzz",
        "colab_type": "code",
        "colab": {
          "base_uri": "https://localhost:8080/",
          "height": 68
        },
        "outputId": "d6962fa3-2e64-41d2-976b-ffde3ae05c45"
      },
      "source": [
        "# Scalars\n",
        "t = tf.constant(2.718)\n",
        "print(t.numpy())\n",
        "print(t.shape)\n",
        "print(t)"
      ],
      "execution_count": 10,
      "outputs": [
        {
          "output_type": "stream",
          "text": [
            "2.718\n",
            "()\n",
            "tf.Tensor(2.718, shape=(), dtype=float32)\n"
          ],
          "name": "stdout"
        }
      ]
    },
    {
      "cell_type": "code",
      "metadata": {
        "id": "uA_MEhhlfAX2",
        "colab_type": "code",
        "colab": {
          "base_uri": "https://localhost:8080/",
          "height": 85
        },
        "outputId": "a2080a60-8712-400f-c5c2-abbd1ec72222"
      },
      "source": [
        "# strings\n",
        "t = tf.constant('cafe')\n",
        "print(t)\n",
        "print(tf.strings.length(t))\n",
        "print(tf.strings.length(t, unit='UTF8_CHAR'))\n",
        "print(tf.strings.unicode_decode(t, 'UTF8'))"
      ],
      "execution_count": 11,
      "outputs": [
        {
          "output_type": "stream",
          "text": [
            "tf.Tensor(b'cafe', shape=(), dtype=string)\n",
            "tf.Tensor(4, shape=(), dtype=int32)\n",
            "tf.Tensor(4, shape=(), dtype=int32)\n",
            "tf.Tensor([ 99  97 102 101], shape=(4,), dtype=int32)\n"
          ],
          "name": "stdout"
        }
      ]
    },
    {
      "cell_type": "code",
      "metadata": {
        "id": "emARFLmqftjC",
        "colab_type": "code",
        "colab": {
          "base_uri": "https://localhost:8080/",
          "height": 51
        },
        "outputId": "8797d149-6215-4eb4-8d17-fe298f7c5125"
      },
      "source": [
        "# string array\n",
        "t = tf.constant(['cafe', 'coffee', '咖啡'])\n",
        "print(tf.strings.length(t, unit='UTF8_CHAR'))\n",
        "r = tf.strings.unicode_decode(t, 'UTF8')\n",
        "print(r)\n",
        "# RaggedTensor: 不完整的矩阵，比如下列矩阵每行长度是4，4，2"
      ],
      "execution_count": 12,
      "outputs": [
        {
          "output_type": "stream",
          "text": [
            "tf.Tensor([4 6 2], shape=(3,), dtype=int32)\n",
            "<tf.RaggedTensor [[99, 97, 102, 101], [99, 111, 102, 102, 101, 101], [21654, 21857]]>\n"
          ],
          "name": "stdout"
        }
      ]
    },
    {
      "cell_type": "code",
      "metadata": {
        "id": "vs8QdDA2gEvj",
        "colab_type": "code",
        "colab": {
          "base_uri": "https://localhost:8080/",
          "height": 68
        },
        "outputId": "78d18e36-f300-4bce-e4f2-86f27764eb6a"
      },
      "source": [
        "# ragged tensor\n",
        "r = tf.ragged.constant([[11, 12], [21, 22, 23], [], [41]])\n",
        "# index op\n",
        "print(r)\n",
        "print(r[1])\n",
        "print(r[1:2])"
      ],
      "execution_count": 13,
      "outputs": [
        {
          "output_type": "stream",
          "text": [
            "<tf.RaggedTensor [[11, 12], [21, 22, 23], [], [41]]>\n",
            "tf.Tensor([21 22 23], shape=(3,), dtype=int32)\n",
            "<tf.RaggedTensor [[21, 22, 23]]>\n"
          ],
          "name": "stdout"
        }
      ]
    },
    {
      "cell_type": "code",
      "metadata": {
        "id": "H6AnrchagpYo",
        "colab_type": "code",
        "colab": {
          "base_uri": "https://localhost:8080/",
          "height": 34
        },
        "outputId": "1fe25432-0bfa-42f7-d662-907d507ca622"
      },
      "source": [
        "# ops on ragged tensor\n",
        "r2 = tf.ragged.constant([[51, 52], [], [71]])\n",
        "print(tf.concat([r, r2], axis = 0))"
      ],
      "execution_count": 14,
      "outputs": [
        {
          "output_type": "stream",
          "text": [
            "<tf.RaggedTensor [[11, 12], [21, 22, 23], [], [41], [51, 52], [], [71]]>\n"
          ],
          "name": "stdout"
        }
      ]
    },
    {
      "cell_type": "code",
      "metadata": {
        "id": "JrwCDxNfg8sO",
        "colab_type": "code",
        "colab": {
          "base_uri": "https://localhost:8080/",
          "height": 34
        },
        "outputId": "ed88ded4-cd62-4444-b398-b5fc98ac6fd2"
      },
      "source": [
        "r3 = tf.ragged.constant([[13, 14], [15], [], [42, 43]])\n",
        "print(tf.concat([r, r3], axis = 1))"
      ],
      "execution_count": 15,
      "outputs": [
        {
          "output_type": "stream",
          "text": [
            "<tf.RaggedTensor [[11, 12, 13, 14], [21, 22, 23, 15], [], [41, 42, 43]]>\n"
          ],
          "name": "stdout"
        }
      ]
    },
    {
      "cell_type": "code",
      "metadata": {
        "id": "vmulOl2Fhby9",
        "colab_type": "code",
        "colab": {
          "base_uri": "https://localhost:8080/",
          "height": 102
        },
        "outputId": "a1ccf3e3-8b62-40d2-bafb-52c2b350e974"
      },
      "source": [
        "print(r.to_tensor())"
      ],
      "execution_count": 16,
      "outputs": [
        {
          "output_type": "stream",
          "text": [
            "tf.Tensor(\n",
            "[[11 12  0]\n",
            " [21 22 23]\n",
            " [ 0  0  0]\n",
            " [41  0  0]], shape=(4, 3), dtype=int32)\n"
          ],
          "name": "stdout"
        }
      ]
    },
    {
      "cell_type": "code",
      "metadata": {
        "id": "JgT_R1lQhhV4",
        "colab_type": "code",
        "colab": {
          "base_uri": "https://localhost:8080/",
          "height": 173
        },
        "outputId": "4c1f803c-3e06-46c7-f335-0b9816806e54"
      },
      "source": [
        "# sparse tensor\n",
        "s = tf.SparseTensor(indices = [[0, 1], [1, 0], [2, 3]],\n",
        "                    values = [1., 2., 3.],\n",
        "                    dense_shape = [3, 4])\n",
        "print(s)\n",
        "print(tf.sparse.to_dense(s))"
      ],
      "execution_count": 26,
      "outputs": [
        {
          "output_type": "stream",
          "text": [
            "SparseTensor(indices=tf.Tensor(\n",
            "[[0 1]\n",
            " [1 0]\n",
            " [2 3]], shape=(3, 2), dtype=int64), values=tf.Tensor([1. 2. 3.], shape=(3,), dtype=float32), dense_shape=tf.Tensor([3 4], shape=(2,), dtype=int64))\n",
            "tf.Tensor(\n",
            "[[0. 1. 0. 0.]\n",
            " [2. 0. 0. 0.]\n",
            " [0. 0. 0. 3.]], shape=(3, 4), dtype=float32)\n"
          ],
          "name": "stdout"
        }
      ]
    },
    {
      "cell_type": "code",
      "metadata": {
        "id": "jc2CikSOivqk",
        "colab_type": "code",
        "colab": {
          "base_uri": "https://localhost:8080/",
          "height": 173
        },
        "outputId": "5e7c4b52-6e34-4a5e-8e77-70d3c38ed66d"
      },
      "source": [
        "# sparse tensor\n",
        "s5 = tf.SparseTensor(indices = [[0, 2], [0, 1], [2, 3]],\n",
        "                    values = [1., 2., 3.],\n",
        "                    dense_shape = [3, 4])\n",
        "print(s5)\n",
        "s6 = tf.sparse.reorder(s5)\n",
        "print(tf.sparse.to_dense(s6))"
      ],
      "execution_count": 27,
      "outputs": [
        {
          "output_type": "stream",
          "text": [
            "SparseTensor(indices=tf.Tensor(\n",
            "[[0 2]\n",
            " [0 1]\n",
            " [2 3]], shape=(3, 2), dtype=int64), values=tf.Tensor([1. 2. 3.], shape=(3,), dtype=float32), dense_shape=tf.Tensor([3 4], shape=(2,), dtype=int64))\n",
            "tf.Tensor(\n",
            "[[0. 2. 1. 0.]\n",
            " [0. 0. 0. 0.]\n",
            " [0. 0. 0. 3.]], shape=(3, 4), dtype=float32)\n"
          ],
          "name": "stdout"
        }
      ]
    },
    {
      "cell_type": "code",
      "metadata": {
        "id": "iyIKOy6oiNjf",
        "colab_type": "code",
        "colab": {
          "base_uri": "https://localhost:8080/",
          "height": 190
        },
        "outputId": "696d92dc-3a3f-4810-a391-18ce5b024906"
      },
      "source": [
        "# ops on sparse tensors\n",
        "\n",
        "s2 = s * 2.0\n",
        "print(s2)\n",
        "\n",
        "try:\n",
        "    s3 = s + 1\n",
        "except TypeError as ex:\n",
        "    print(ex)\n",
        "\n",
        "s4 = tf.constant([[10., 20.],\n",
        "                  [30., 40.],\n",
        "                  [50., 60.],\n",
        "                  [70., 80]])\n",
        "print(tf.sparse.sparse_dense_matmul(s, s4))"
      ],
      "execution_count": 28,
      "outputs": [
        {
          "output_type": "stream",
          "text": [
            "SparseTensor(indices=tf.Tensor(\n",
            "[[0 1]\n",
            " [1 0]\n",
            " [2 3]], shape=(3, 2), dtype=int64), values=tf.Tensor([2. 4. 6.], shape=(3,), dtype=float32), dense_shape=tf.Tensor([3 4], shape=(2,), dtype=int64))\n",
            "unsupported operand type(s) for +: 'SparseTensor' and 'int'\n",
            "tf.Tensor(\n",
            "[[ 30.  40.]\n",
            " [ 20.  40.]\n",
            " [210. 240.]], shape=(3, 2), dtype=float32)\n"
          ],
          "name": "stdout"
        }
      ]
    },
    {
      "cell_type": "code",
      "metadata": {
        "id": "SSUfEnkbjVTu",
        "colab_type": "code",
        "colab": {
          "base_uri": "https://localhost:8080/",
          "height": 153
        },
        "outputId": "39286792-6da9-4293-9eaa-fee106ac8901"
      },
      "source": [
        "# Variables\n",
        "v = tf.Variable([[1., 2., 3.], [4., 5., 6.]])\n",
        "print(v)\n",
        "print(v.value())\n",
        "print(v.numpy())"
      ],
      "execution_count": 29,
      "outputs": [
        {
          "output_type": "stream",
          "text": [
            "<tf.Variable 'Variable:0' shape=(2, 3) dtype=float32, numpy=\n",
            "array([[1., 2., 3.],\n",
            "       [4., 5., 6.]], dtype=float32)>\n",
            "tf.Tensor(\n",
            "[[1. 2. 3.]\n",
            " [4. 5. 6.]], shape=(2, 3), dtype=float32)\n",
            "[[1. 2. 3.]\n",
            " [4. 5. 6.]]\n"
          ],
          "name": "stdout"
        }
      ]
    },
    {
      "cell_type": "code",
      "metadata": {
        "id": "ib5uU9G2j4VC",
        "colab_type": "code",
        "colab": {
          "base_uri": "https://localhost:8080/",
          "height": 85
        },
        "outputId": "5d2e37f1-92c2-4080-9f81-ae62a3372af1"
      },
      "source": [
        "# assign value\n",
        "v.assign(2*v)\n",
        "v[0, 1].assign(42)\n",
        "print(v.numpy())\n",
        "v[1].assign([7., 8., 9.])\n",
        "print(v.numpy())"
      ],
      "execution_count": 30,
      "outputs": [
        {
          "output_type": "stream",
          "text": [
            "[[ 2. 42.  6.]\n",
            " [ 8. 10. 12.]]\n",
            "[[ 2. 42.  6.]\n",
            " [ 7.  8.  9.]]\n"
          ],
          "name": "stdout"
        }
      ]
    },
    {
      "cell_type": "code",
      "metadata": {
        "id": "KP_XuCTwkN2p",
        "colab_type": "code",
        "colab": {
          "base_uri": "https://localhost:8080/",
          "height": 34
        },
        "outputId": "c0898b00-ea0d-48f7-f25d-3ff9739cc2a4"
      },
      "source": [
        "try:\n",
        "    v[1] = [7., 8., 9.]\n",
        "except TypeError as ex:\n",
        "    print(ex)"
      ],
      "execution_count": 32,
      "outputs": [
        {
          "output_type": "stream",
          "text": [
            "'ResourceVariable' object does not support item assignment\n"
          ],
          "name": "stdout"
        }
      ]
    },
    {
      "cell_type": "code",
      "metadata": {
        "id": "5JwPwjIukavH",
        "colab_type": "code",
        "colab": {}
      },
      "source": [
        ""
      ],
      "execution_count": 0,
      "outputs": []
    }
  ]
}