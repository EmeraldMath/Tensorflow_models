{
  "nbformat": 4,
  "nbformat_minor": 0,
  "metadata": {
    "colab": {
      "name": "tf_keras_regression_-manu-diff",
      "provenance": [],
      "collapsed_sections": [],
      "authorship_tag": "ABX9TyOvtB9W/37t0h9TvOCI2Fd0",
      "include_colab_link": true
    },
    "kernelspec": {
      "name": "python3",
      "display_name": "Python 3"
    }
  },
  "cells": [
    {
      "cell_type": "markdown",
      "metadata": {
        "id": "view-in-github",
        "colab_type": "text"
      },
      "source": [
        "<a href=\"https://colab.research.google.com/github/EmeraldMath/Tensorflow_models/blob/master/tf_keras_regression__manu_diff.ipynb\" target=\"_parent\"><img src=\"https://colab.research.google.com/assets/colab-badge.svg\" alt=\"Open In Colab\"/></a>"
      ]
    },
    {
      "cell_type": "code",
      "metadata": {
        "id": "1qTaQkiL_QP3",
        "colab_type": "code",
        "outputId": "d85fb51a-5799-4da4-8af0-f76bb3c15efa",
        "colab": {
          "base_uri": "https://localhost:8080/",
          "height": 153
        }
      },
      "source": [
        "%tensorflow_version 2.x\n",
        "import matplotlib as mpl\n",
        "import matplotlib.pyplot as plt\n",
        "%matplotlib inline\n",
        "import numpy as np\n",
        "import sklearn\n",
        "import pandas as pd\n",
        "import os\n",
        "import sys\n",
        "import time\n",
        "import tensorflow as tf\n",
        "\n",
        "from tensorflow import keras\n",
        "\n",
        "print(tf.__version__)\n",
        "print(sys.version_info)\n",
        "for module in mpl, np, pd, sklearn, tf, keras:\n",
        "    print(module.__name__, module.__version__)"
      ],
      "execution_count": 9,
      "outputs": [
        {
          "output_type": "stream",
          "text": [
            "2.1.0\n",
            "sys.version_info(major=3, minor=6, micro=9, releaselevel='final', serial=0)\n",
            "matplotlib 3.1.3\n",
            "numpy 1.17.5\n",
            "pandas 0.25.3\n",
            "sklearn 0.22.1\n",
            "tensorflow 2.1.0\n",
            "tensorflow_core.keras 2.2.4-tf\n"
          ],
          "name": "stdout"
        }
      ]
    },
    {
      "cell_type": "code",
      "metadata": {
        "id": "saB-LVmq_T6P",
        "colab_type": "code",
        "outputId": "7c0ebc9b-ad21-446e-dd6a-07e5ac523d0f",
        "colab": {
          "base_uri": "https://localhost:8080/",
          "height": 748
        }
      },
      "source": [
        "from sklearn.datasets import fetch_california_housing\n",
        "\n",
        "housing = fetch_california_housing()\n",
        "print(housing.DESCR)\n",
        "print(housing.data.shape)\n",
        "print(housing.target.shape)"
      ],
      "execution_count": 10,
      "outputs": [
        {
          "output_type": "stream",
          "text": [
            ".. _california_housing_dataset:\n",
            "\n",
            "California Housing dataset\n",
            "--------------------------\n",
            "\n",
            "**Data Set Characteristics:**\n",
            "\n",
            "    :Number of Instances: 20640\n",
            "\n",
            "    :Number of Attributes: 8 numeric, predictive attributes and the target\n",
            "\n",
            "    :Attribute Information:\n",
            "        - MedInc        median income in block\n",
            "        - HouseAge      median house age in block\n",
            "        - AveRooms      average number of rooms\n",
            "        - AveBedrms     average number of bedrooms\n",
            "        - Population    block population\n",
            "        - AveOccup      average house occupancy\n",
            "        - Latitude      house block latitude\n",
            "        - Longitude     house block longitude\n",
            "\n",
            "    :Missing Attribute Values: None\n",
            "\n",
            "This dataset was obtained from the StatLib repository.\n",
            "http://lib.stat.cmu.edu/datasets/\n",
            "\n",
            "The target variable is the median house value for California districts.\n",
            "\n",
            "This dataset was derived from the 1990 U.S. census, using one row per census\n",
            "block group. A block group is the smallest geographical unit for which the U.S.\n",
            "Census Bureau publishes sample data (a block group typically has a population\n",
            "of 600 to 3,000 people).\n",
            "\n",
            "It can be downloaded/loaded using the\n",
            ":func:`sklearn.datasets.fetch_california_housing` function.\n",
            "\n",
            ".. topic:: References\n",
            "\n",
            "    - Pace, R. Kelley and Ronald Barry, Sparse Spatial Autoregressions,\n",
            "      Statistics and Probability Letters, 33 (1997) 291-297\n",
            "\n",
            "(20640, 8)\n",
            "(20640,)\n"
          ],
          "name": "stdout"
        }
      ]
    },
    {
      "cell_type": "code",
      "metadata": {
        "id": "JYWEvKM4JrZZ",
        "colab_type": "code",
        "outputId": "56424910-3f70-46fe-b42e-a63199940e0c",
        "colab": {
          "base_uri": "https://localhost:8080/",
          "height": 68
        }
      },
      "source": [
        "from sklearn.model_selection import train_test_split\n",
        "\n",
        "x_train_all, x_test, y_train_all, y_test = train_test_split(\n",
        "    housing.data, housing.target, random_state = 7) #default test_size = 0.25\n",
        "x_train, x_valid, y_train, y_valid = train_test_split(\n",
        "    x_train_all, y_train_all, random_state = 11)\n",
        "print(x_train.shape, y_train.shape)\n",
        "print(x_valid.shape, y_valid.shape)\n",
        "print(x_test.shape, y_test.shape)"
      ],
      "execution_count": 11,
      "outputs": [
        {
          "output_type": "stream",
          "text": [
            "(11610, 8) (11610,)\n",
            "(3870, 8) (3870,)\n",
            "(5160, 8) (5160,)\n"
          ],
          "name": "stdout"
        }
      ]
    },
    {
      "cell_type": "code",
      "metadata": {
        "id": "5iC77xYJKYs5",
        "colab_type": "code",
        "colab": {}
      },
      "source": [
        "from sklearn.preprocessing import StandardScaler\n",
        "\n",
        "scaler = StandardScaler()\n",
        "x_train_scaled = scaler.fit_transform(x_train)\n",
        "x_valid_scaled = scaler.transform(x_valid)\n",
        "x_test_scaled = scaler.transform(x_test)"
      ],
      "execution_count": 0,
      "outputs": []
    },
    {
      "cell_type": "code",
      "metadata": {
        "id": "ak9lmyX0yFac",
        "colab_type": "code",
        "colab": {
          "base_uri": "https://localhost:8080/",
          "height": 85
        },
        "outputId": "55364079-1f19-4add-d830-b6358c9358e1"
      },
      "source": [
        "# metric使用\n",
        "\n",
        "metric = keras.metrics.MeanSquaredError()\n",
        "print(metric([5.], [2.]))\n",
        "# metric具有累加功能\n",
        "print(metric([0.], [1.]))\n",
        "print(metric.result())\n",
        "\n",
        "metric.reset_states()\n",
        "metric([1.], [3.])\n",
        "print(metric.result())"
      ],
      "execution_count": 13,
      "outputs": [
        {
          "output_type": "stream",
          "text": [
            "tf.Tensor(9.0, shape=(), dtype=float32)\n",
            "tf.Tensor(5.0, shape=(), dtype=float32)\n",
            "tf.Tensor(5.0, shape=(), dtype=float32)\n",
            "tf.Tensor(4.0, shape=(), dtype=float32)\n"
          ],
          "name": "stdout"
        }
      ]
    },
    {
      "cell_type": "code",
      "metadata": {
        "id": "l9uaKZuuKvtf",
        "colab_type": "code",
        "colab": {}
      },
      "source": [
        "# 1. batch 遍历训练集 metric\n",
        "#    1.1 自动求导\n",
        "# 2. epoch结束 验证集 metric\n",
        "epochs = 100\n",
        "batch_size = 32\n",
        "# //：Division (floor): divides the first operand by the second\n",
        "steps_per_epoch = len(x_train_scaled // batch_size)\n",
        "optimizer = keras.optimizers.SGD()\n",
        "metric = keras.metrics.MeanSquaredError()\n",
        "\n",
        "def random_batch(x, y, batch_size=32):\n",
        "    idx = np.random.randint(0, len(x), size=batch_size) #idx is a list\n",
        "    return x[idx], y[idx]\n",
        "\n",
        "model = keras.models.Sequential([\n",
        "    keras.layers.Dense(30, activation='relu',\n",
        "                       input_shape = x_train.shape[1:]),\n",
        "    keras.layers.Dense(1),                 \n",
        "])\n",
        "\n",
        "for epoch in range(epochs):\n",
        "    metric.reset_states()\n",
        "    for step in range(steps_per_epoch):\n",
        "        x_batch, y_batch = random_batch(x_train_scaled,\n",
        "                                        y_train,\n",
        "                                        batch_size)\n",
        "        with tf.GradientTape() as tape:\n",
        "            y_pred = model(x_batch)\n",
        "            loss = tf.reduce_mean(\n",
        "                keras.losses.mean_squared_error(y_batch, y_pred))\n",
        "            metric(y_batch, y_pred)\n",
        "        grads = tape.gradient(loss, model.variables)\n",
        "        grads_and_vars = zip(grads, model.variables)\n",
        "        optimizer.apply_gradients(grads_and_vars)\n",
        "        print(\"\\rEpoch\", epoch, \" train mse:\",\n",
        "              metric.result().numpy(), end='')\n",
        "    y_valid_pred = model(x_valid_scaled)\n",
        "    valid_loss = tf.reduce_mean(\n",
        "        keras.losses.mean_squared_error(y_valid_pred, y_valid))\n",
        "    print(\"\\t\", \"valid mse: \", valid_loss.numpy())\n"
      ],
      "execution_count": 0,
      "outputs": []
    }
  ]
}