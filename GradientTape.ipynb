{
  "nbformat": 4,
  "nbformat_minor": 0,
  "metadata": {
    "colab": {
      "name": "GradientTape.ipynb",
      "provenance": [],
      "authorship_tag": "ABX9TyPYJpP7tg7h9TWvVoyflHW7",
      "include_colab_link": true
    },
    "kernelspec": {
      "name": "python3",
      "display_name": "Python 3"
    }
  },
  "cells": [
    {
      "cell_type": "markdown",
      "metadata": {
        "id": "view-in-github",
        "colab_type": "text"
      },
      "source": [
        "<a href=\"https://colab.research.google.com/github/EmeraldMath/Tensorflow_models/blob/master/GradientTape.ipynb\" target=\"_parent\"><img src=\"https://colab.research.google.com/assets/colab-badge.svg\" alt=\"Open In Colab\"/></a>"
      ]
    },
    {
      "cell_type": "code",
      "metadata": {
        "id": "2RqcFXgFmmvx",
        "colab_type": "code",
        "outputId": "4250dd6a-b7c5-4fda-fd05-382420eab4de",
        "colab": {
          "base_uri": "https://localhost:8080/",
          "height": 170
        }
      },
      "source": [
        "%tensorflow_version 2.x\n",
        "import matplotlib as mpl\n",
        "import matplotlib.pyplot as plt\n",
        "%matplotlib inline\n",
        "import numpy as np\n",
        "import sklearn\n",
        "import pandas as pd\n",
        "import os\n",
        "import sys\n",
        "import time\n",
        "import tensorflow as tf\n",
        "\n",
        "from tensorflow import keras\n",
        "\n",
        "print(tf.__version__)\n",
        "print(sys.version_info)\n",
        "for module in mpl, np, pd, sklearn, tf, keras:\n",
        "    print(module.__name__, module.__version__)"
      ],
      "execution_count": 3,
      "outputs": [
        {
          "output_type": "stream",
          "text": [
            "TensorFlow 2.x selected.\n",
            "2.1.0\n",
            "sys.version_info(major=3, minor=6, micro=9, releaselevel='final', serial=0)\n",
            "matplotlib 3.1.3\n",
            "numpy 1.17.5\n",
            "pandas 0.25.3\n",
            "sklearn 0.22.1\n",
            "tensorflow 2.1.0\n",
            "tensorflow_core.python.keras.api._v2.keras 2.2.4-tf\n"
          ],
          "name": "stdout"
        }
      ]
    },
    {
      "cell_type": "code",
      "metadata": {
        "id": "Z_TfHTFTmnjJ",
        "colab_type": "code",
        "outputId": "a63800c5-37c6-4331-bc2e-d79b76c853e8",
        "colab": {
          "base_uri": "https://localhost:8080/",
          "height": 34
        }
      },
      "source": [
        "def f(x):\n",
        "    # 3x^2 + 2x - 1\n",
        "    return 3. * x ** 2 + 2. * x - 1\n",
        "\n",
        "def approximate_derivative(f, x, eps=1e-3):\n",
        "    return (f(x + eps) - f(x - eps)) / (2. * eps)\n",
        "\n",
        "print(approximate_derivative(f, 1.))"
      ],
      "execution_count": 4,
      "outputs": [
        {
          "output_type": "stream",
          "text": [
            "7.999999999999119\n"
          ],
          "name": "stdout"
        }
      ]
    },
    {
      "cell_type": "code",
      "metadata": {
        "id": "3paEzq8brkkp",
        "colab_type": "code",
        "outputId": "4be3fbdf-eba8-4448-c502-7d73b73ea56b",
        "colab": {
          "base_uri": "https://localhost:8080/",
          "height": 34
        }
      },
      "source": [
        "def g(x1, x2):\n",
        "     return (x1 + 5) * (x2 ** 2)\n",
        "\n",
        "def approximate_gradient(g, x1, x2, eps=1e-3):\n",
        "    dg_x1 = approximate_derivative(lambda x: g(x, x2), x1, eps)\n",
        "    dg_x2 = approximate_derivative(lambda x: g(x1, x), x2, eps)\n",
        "    return dg_x1, dg_x2\n",
        "\n",
        "print(approximate_gradient(g, 2., 3.))\n"
      ],
      "execution_count": 5,
      "outputs": [
        {
          "output_type": "stream",
          "text": [
            "(8.999999999993236, 41.999999999994486)\n"
          ],
          "name": "stdout"
        }
      ]
    },
    {
      "cell_type": "code",
      "metadata": {
        "id": "dBk3LHdyF4xc",
        "colab_type": "code",
        "colab": {
          "base_uri": "https://localhost:8080/",
          "height": 51
        },
        "outputId": "779180b8-bba4-4bdc-ee79-f447b9b39534"
      },
      "source": [
        "x1 = tf.Variable(2.0)\n",
        "x2 = tf.Variable(3.0)\n",
        "with tf.GradientTape() as tape:\n",
        "    z = g(x1, x2)\n",
        "\n",
        "dz_x1 = tape.gradient(z, x1)\n",
        "print(dz_x1)\n",
        "\n",
        "try:\n",
        "    dz_x2 = tape.gradient(z, x2)\n",
        "except RuntimeError as ex:\n",
        "    print(ex)\n"
      ],
      "execution_count": 7,
      "outputs": [
        {
          "output_type": "stream",
          "text": [
            "tf.Tensor(9.0, shape=(), dtype=float32)\n",
            "GradientTape.gradient can only be called once on non-persistent tapes.\n"
          ],
          "name": "stdout"
        }
      ]
    },
    {
      "cell_type": "code",
      "metadata": {
        "id": "XIZArs2eqxFY",
        "colab_type": "code",
        "colab": {
          "base_uri": "https://localhost:8080/",
          "height": 51
        },
        "outputId": "08699ca4-5785-4caf-f904-193c0a2d8d5f"
      },
      "source": [
        "with tf.GradientTape(persistent = True) as tape:\n",
        "    z = g(x1, x2)\n",
        "\n",
        "dz_x1 = tape.gradient(z, x1)\n",
        "print(dz_x1)\n",
        "\n",
        "dz_x2 = tape.gradient(z, x2)\n",
        "print(dz_x1, dz_x2)\n",
        "\n",
        "# due to persistent = True, system wont release tape automatically\n",
        "del tape"
      ],
      "execution_count": 9,
      "outputs": [
        {
          "output_type": "stream",
          "text": [
            "tf.Tensor(9.0, shape=(), dtype=float32)\n",
            "tf.Tensor(9.0, shape=(), dtype=float32) tf.Tensor(42.0, shape=(), dtype=float32)\n"
          ],
          "name": "stdout"
        }
      ]
    },
    {
      "cell_type": "code",
      "metadata": {
        "id": "jWmbo8Ohq4zU",
        "colab_type": "code",
        "colab": {
          "base_uri": "https://localhost:8080/",
          "height": 54
        },
        "outputId": "6dcbcda8-2af3-4a2d-f80c-392714da1274"
      },
      "source": [
        "x1 = tf.Variable(2.0)\n",
        "x2 = tf.Variable(3.0)\n",
        "with tf.GradientTape() as tape:\n",
        "    z = g(x1, x2)\n",
        "\n",
        "dz_x1x2 = tape.gradient(z, [x1, x2])\n",
        "\n",
        "print(dz_x1x2)"
      ],
      "execution_count": 10,
      "outputs": [
        {
          "output_type": "stream",
          "text": [
            "[<tf.Tensor: shape=(), dtype=float32, numpy=9.0>, <tf.Tensor: shape=(), dtype=float32, numpy=42.0>]\n"
          ],
          "name": "stdout"
        }
      ]
    },
    {
      "cell_type": "code",
      "metadata": {
        "id": "vRwu4cdZruAX",
        "colab_type": "code",
        "colab": {
          "base_uri": "https://localhost:8080/",
          "height": 34
        },
        "outputId": "547b77a9-d33b-4301-e9b1-444db8b7527e"
      },
      "source": [
        "x1 = tf.constant(2.0)\n",
        "x2 = tf.constant(3.0)\n",
        "with tf.GradientTape() as tape:\n",
        "    z = g(x1, x2)\n",
        "\n",
        "dz_x1x2 = tape.gradient(z, [x1, x2])\n",
        "\n",
        "print(dz_x1x2)"
      ],
      "execution_count": 11,
      "outputs": [
        {
          "output_type": "stream",
          "text": [
            "[None, None]\n"
          ],
          "name": "stdout"
        }
      ]
    },
    {
      "cell_type": "code",
      "metadata": {
        "id": "_JjHEuLTr51-",
        "colab_type": "code",
        "colab": {
          "base_uri": "https://localhost:8080/",
          "height": 54
        },
        "outputId": "26421441-6a2d-46d2-e98a-12c442f6b0c7"
      },
      "source": [
        "x1 = tf.constant(2.0)\n",
        "x2 = tf.constant(3.0)\n",
        "with tf.GradientTape() as tape:\n",
        "    tape.watch(x1)\n",
        "    tape.watch(x2)\n",
        "    z = g(x1, x2)\n",
        "\n",
        "dz_x1x2 = tape.gradient(z, [x1, x2])\n",
        "\n",
        "print(dz_x1x2)"
      ],
      "execution_count": 12,
      "outputs": [
        {
          "output_type": "stream",
          "text": [
            "[<tf.Tensor: shape=(), dtype=float32, numpy=9.0>, <tf.Tensor: shape=(), dtype=float32, numpy=42.0>]\n"
          ],
          "name": "stdout"
        }
      ]
    },
    {
      "cell_type": "code",
      "metadata": {
        "id": "IGosmZf7sFay",
        "colab_type": "code",
        "colab": {
          "base_uri": "https://localhost:8080/",
          "height": 34
        },
        "outputId": "35ed7647-cf40-4375-d59f-77f89cab9638"
      },
      "source": [
        "x = tf.Variable(5.0)\n",
        "with tf.GradientTape() as tape:\n",
        "    z1 = 3 * x\n",
        "    z2 = x ** 2\n",
        "tape.gradient([z1, z2], x)\n",
        "# 3 + 2x = 3 + 2 * 5 = 13"
      ],
      "execution_count": 13,
      "outputs": [
        {
          "output_type": "execute_result",
          "data": {
            "text/plain": [
              "<tf.Tensor: shape=(), dtype=float32, numpy=13.0>"
            ]
          },
          "metadata": {
            "tags": []
          },
          "execution_count": 13
        }
      ]
    },
    {
      "cell_type": "code",
      "metadata": {
        "id": "WeqE65e4sXd8",
        "colab_type": "code",
        "colab": {
          "base_uri": "https://localhost:8080/",
          "height": 54
        },
        "outputId": "feb0a51d-f3ab-4308-e32e-db45222b4664"
      },
      "source": [
        "# (x1 + 5) * x2^2\n",
        "x1 = tf.Variable(2.0)\n",
        "x2 = tf.Variable(3.0)\n",
        "with tf.GradientTape(persistent=True) as outer_tape:\n",
        "    with tf.GradientTape(persistent=True) as inner_tape:\n",
        "        z = g(x1, x2)\n",
        "    inner_grads = inner_tape.gradient(z, [x1, x2]) #[x2^2, 2(x1+5)x2]\n",
        "outer_grads = [outer_tape.gradient(inner_grad, [x1, x2])\n",
        "               for inner_grad in inner_grads]\n",
        "print(outer_grads)\n",
        "del inner_tape\n",
        "del outer_tape\n",
        "# output is a 2*2 matrix"
      ],
      "execution_count": 14,
      "outputs": [
        {
          "output_type": "stream",
          "text": [
            "[[None, <tf.Tensor: shape=(), dtype=float32, numpy=6.0>], [<tf.Tensor: shape=(), dtype=float32, numpy=6.0>, <tf.Tensor: shape=(), dtype=float32, numpy=14.0>]]\n"
          ],
          "name": "stdout"
        }
      ]
    },
    {
      "cell_type": "code",
      "metadata": {
        "id": "T89fL3wmtmq0",
        "colab_type": "code",
        "colab": {
          "base_uri": "https://localhost:8080/",
          "height": 34
        },
        "outputId": "b8ddbfc6-17aa-4658-fc05-2f2ad4aac949"
      },
      "source": [
        "learning_rate = 0.1\n",
        "x = tf.Variable(0.0)\n",
        "\n",
        "for _ in range(100):\n",
        "    with tf.GradientTape() as tape:\n",
        "        z = f(x)\n",
        "    dz_dx = tape.gradient(z, x)\n",
        "    x.assign_sub(learning_rate * dz_dx)\n",
        "print(x)"
      ],
      "execution_count": 15,
      "outputs": [
        {
          "output_type": "stream",
          "text": [
            "<tf.Variable 'Variable:0' shape=() dtype=float32, numpy=-0.3333333>\n"
          ],
          "name": "stdout"
        }
      ]
    },
    {
      "cell_type": "code",
      "metadata": {
        "id": "nvF5rIU-wvIn",
        "colab_type": "code",
        "colab": {
          "base_uri": "https://localhost:8080/",
          "height": 34
        },
        "outputId": "f30d9299-188b-4347-9299-953d95c1eda2"
      },
      "source": [
        "learning_rate = 0.1\n",
        "x = tf.Variable(0.0)\n",
        "\n",
        "optimizer = keras.optimizers.SGD(lr = learning_rate)\n",
        "\n",
        "for _ in range(100):\n",
        "    with tf.GradientTape() as tape:\n",
        "        z = f(x)\n",
        "    dz_dx = tape.gradient(z, x)\n",
        "    optimizer.apply_gradients([(dz_dx, x)])\n",
        "print(x)"
      ],
      "execution_count": 16,
      "outputs": [
        {
          "output_type": "stream",
          "text": [
            "<tf.Variable 'Variable:0' shape=() dtype=float32, numpy=-0.3333333>\n"
          ],
          "name": "stdout"
        }
      ]
    }
  ]
}