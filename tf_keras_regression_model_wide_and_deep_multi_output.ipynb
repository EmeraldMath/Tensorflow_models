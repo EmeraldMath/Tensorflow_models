{
  "nbformat": 4,
  "nbformat_minor": 0,
  "metadata": {
    "colab": {
      "name": "tf_keras_regression_model-wide_and_deep-multi_output",
      "provenance": [],
      "collapsed_sections": [],
      "authorship_tag": "ABX9TyPXsG5NITisJg5DMS/HKeQZ",
      "include_colab_link": true
    },
    "kernelspec": {
      "name": "python3",
      "display_name": "Python 3"
    }
  },
  "cells": [
    {
      "cell_type": "markdown",
      "metadata": {
        "id": "view-in-github",
        "colab_type": "text"
      },
      "source": [
        "<a href=\"https://colab.research.google.com/github/EmeraldMath/Tensorflow_models/blob/master/tf_keras_regression_model_wide_and_deep_multi_output.ipynb\" target=\"_parent\"><img src=\"https://colab.research.google.com/assets/colab-badge.svg\" alt=\"Open In Colab\"/></a>"
      ]
    },
    {
      "cell_type": "code",
      "metadata": {
        "id": "1qTaQkiL_QP3",
        "colab_type": "code",
        "outputId": "d135a491-75f0-48de-afc5-b0d6646da4b5",
        "colab": {
          "base_uri": "https://localhost:8080/",
          "height": 170
        }
      },
      "source": [
        "%tensorflow_version 2.x\n",
        "import matplotlib as mpl\n",
        "import matplotlib.pyplot as plt\n",
        "%matplotlib inline\n",
        "import numpy as np\n",
        "import sklearn\n",
        "import pandas as pd\n",
        "import os\n",
        "import sys\n",
        "import time\n",
        "import tensorflow as tf\n",
        "\n",
        "from tensorflow import keras\n",
        "\n",
        "print(tf.__version__)\n",
        "print(sys.version_info)\n",
        "for module in mpl, np, pd, sklearn, tf, keras:\n",
        "    print(module.__name__, module.__version__)"
      ],
      "execution_count": 1,
      "outputs": [
        {
          "output_type": "stream",
          "text": [
            "TensorFlow 2.x selected.\n",
            "2.1.0\n",
            "sys.version_info(major=3, minor=6, micro=9, releaselevel='final', serial=0)\n",
            "matplotlib 3.1.2\n",
            "numpy 1.17.5\n",
            "pandas 0.25.3\n",
            "sklearn 0.22.1\n",
            "tensorflow 2.1.0\n",
            "tensorflow_core.python.keras.api._v2.keras 2.2.4-tf\n"
          ],
          "name": "stdout"
        }
      ]
    },
    {
      "cell_type": "code",
      "metadata": {
        "id": "saB-LVmq_T6P",
        "colab_type": "code",
        "outputId": "8cfb1a04-908e-45af-f669-63c1437b0a33",
        "colab": {
          "base_uri": "https://localhost:8080/",
          "height": 785
        }
      },
      "source": [
        "from sklearn.datasets import fetch_california_housing\n",
        "\n",
        "housing = fetch_california_housing()\n",
        "print(housing.DESCR)\n",
        "print(housing.data.shape)\n",
        "print(housing.target.shape)"
      ],
      "execution_count": 2,
      "outputs": [
        {
          "output_type": "stream",
          "text": [
            "Downloading Cal. housing from https://ndownloader.figshare.com/files/5976036 to /root/scikit_learn_data\n"
          ],
          "name": "stderr"
        },
        {
          "output_type": "stream",
          "text": [
            ".. _california_housing_dataset:\n",
            "\n",
            "California Housing dataset\n",
            "--------------------------\n",
            "\n",
            "**Data Set Characteristics:**\n",
            "\n",
            "    :Number of Instances: 20640\n",
            "\n",
            "    :Number of Attributes: 8 numeric, predictive attributes and the target\n",
            "\n",
            "    :Attribute Information:\n",
            "        - MedInc        median income in block\n",
            "        - HouseAge      median house age in block\n",
            "        - AveRooms      average number of rooms\n",
            "        - AveBedrms     average number of bedrooms\n",
            "        - Population    block population\n",
            "        - AveOccup      average house occupancy\n",
            "        - Latitude      house block latitude\n",
            "        - Longitude     house block longitude\n",
            "\n",
            "    :Missing Attribute Values: None\n",
            "\n",
            "This dataset was obtained from the StatLib repository.\n",
            "http://lib.stat.cmu.edu/datasets/\n",
            "\n",
            "The target variable is the median house value for California districts.\n",
            "\n",
            "This dataset was derived from the 1990 U.S. census, using one row per census\n",
            "block group. A block group is the smallest geographical unit for which the U.S.\n",
            "Census Bureau publishes sample data (a block group typically has a population\n",
            "of 600 to 3,000 people).\n",
            "\n",
            "It can be downloaded/loaded using the\n",
            ":func:`sklearn.datasets.fetch_california_housing` function.\n",
            "\n",
            ".. topic:: References\n",
            "\n",
            "    - Pace, R. Kelley and Ronald Barry, Sparse Spatial Autoregressions,\n",
            "      Statistics and Probability Letters, 33 (1997) 291-297\n",
            "\n",
            "(20640, 8)\n",
            "(20640,)\n"
          ],
          "name": "stdout"
        }
      ]
    },
    {
      "cell_type": "code",
      "metadata": {
        "id": "JYWEvKM4JrZZ",
        "colab_type": "code",
        "outputId": "b9048f0a-6074-427e-a93c-af401311bcc8",
        "colab": {
          "base_uri": "https://localhost:8080/",
          "height": 68
        }
      },
      "source": [
        "from sklearn.model_selection import train_test_split\n",
        "\n",
        "x_train_all, x_test, y_train_all, y_test = train_test_split(\n",
        "    housing.data, housing.target, random_state = 7) #default test_size = 0.25\n",
        "x_train, x_valid, y_train, y_valid = train_test_split(\n",
        "    x_train_all, y_train_all, random_state = 11)\n",
        "print(x_train.shape, y_train.shape)\n",
        "print(x_valid.shape, y_valid.shape)\n",
        "print(x_test.shape, y_test.shape)"
      ],
      "execution_count": 3,
      "outputs": [
        {
          "output_type": "stream",
          "text": [
            "(11610, 8) (11610,)\n",
            "(3870, 8) (3870,)\n",
            "(5160, 8) (5160,)\n"
          ],
          "name": "stdout"
        }
      ]
    },
    {
      "cell_type": "code",
      "metadata": {
        "id": "5iC77xYJKYs5",
        "colab_type": "code",
        "colab": {}
      },
      "source": [
        "from sklearn.preprocessing import StandardScaler\n",
        "\n",
        "scaler = StandardScaler()\n",
        "x_train_scaled = scaler.fit_transform(x_train)\n",
        "x_valid_scaled = scaler.transform(x_valid)\n",
        "x_test_scaled = scaler.transform(x_test)"
      ],
      "execution_count": 0,
      "outputs": []
    },
    {
      "cell_type": "code",
      "metadata": {
        "id": "l9uaKZuuKvtf",
        "colab_type": "code",
        "outputId": "38cc2696-f32e-4e0c-a85a-7ff402af1042",
        "colab": {
          "base_uri": "https://localhost:8080/",
          "height": 408
        }
      },
      "source": [
        "# multi-input and functional API\n",
        "#decide the first 5 features as inputs for wide model, and the last 6 features as inputs for deep model\n",
        "input_wide = keras.layers.Input(shape=[5])\n",
        "input_deep = keras.layers.Input(shape=[6])\n",
        "hidden1 = keras.layers.Dense(30, activation='relu')(input_deep)\n",
        "hidden2 = keras.layers.Dense(30, activation='relu')(hidden1)\n",
        "concat = keras.layers.concatenate([input_wide, hidden2])\n",
        "output = keras.layers.Dense(1)(concat)\n",
        "output2 = keras.layers.Dense(1)(hidden2)\n",
        "model = keras.models.Model(inputs = [input_wide, input_deep],\n",
        "                          outputs = [output, output2])\n",
        "\n",
        "model.summary()\n",
        "model.compile(loss='mean_squared_error', optimizer='adam')\n",
        "callbacks = [keras.callbacks.EarlyStopping(\n",
        "    patience=5, min_delta = 1e-2)]"
      ],
      "execution_count": 5,
      "outputs": [
        {
          "output_type": "stream",
          "text": [
            "Model: \"model\"\n",
            "__________________________________________________________________________________________________\n",
            "Layer (type)                    Output Shape         Param #     Connected to                     \n",
            "==================================================================================================\n",
            "input_2 (InputLayer)            [(None, 6)]          0                                            \n",
            "__________________________________________________________________________________________________\n",
            "dense (Dense)                   (None, 30)           210         input_2[0][0]                    \n",
            "__________________________________________________________________________________________________\n",
            "input_1 (InputLayer)            [(None, 5)]          0                                            \n",
            "__________________________________________________________________________________________________\n",
            "dense_1 (Dense)                 (None, 30)           930         dense[0][0]                      \n",
            "__________________________________________________________________________________________________\n",
            "concatenate (Concatenate)       (None, 35)           0           input_1[0][0]                    \n",
            "                                                                 dense_1[0][0]                    \n",
            "__________________________________________________________________________________________________\n",
            "dense_2 (Dense)                 (None, 1)            36          concatenate[0][0]                \n",
            "__________________________________________________________________________________________________\n",
            "dense_3 (Dense)                 (None, 1)            31          dense_1[0][0]                    \n",
            "==================================================================================================\n",
            "Total params: 1,207\n",
            "Trainable params: 1,207\n",
            "Non-trainable params: 0\n",
            "__________________________________________________________________________________________________\n"
          ],
          "name": "stdout"
        }
      ]
    },
    {
      "cell_type": "code",
      "metadata": {
        "id": "KonwzQFBMtMr",
        "colab_type": "code",
        "outputId": "0f13504b-f830-4db2-9be1-44d788ae5247",
        "colab": {
          "base_uri": "https://localhost:8080/",
          "height": 802
        }
      },
      "source": [
        "x_train_scaled_wide = x_train_scaled[:, :5]\n",
        "x_train_scaled_deep = x_train_scaled[:, 2:]\n",
        "x_valid_scaled_wide = x_valid_scaled[:, :5]\n",
        "x_valid_scaled_deep = x_valid_scaled[:, 2:]\n",
        "x_test_scaled_wide = x_test_scaled[:, :5]\n",
        "x_test_scaled_deep = x_test_scaled[:, 2:]\n",
        "\n",
        "history = model.fit([x_train_scaled_wide, x_train_scaled_deep],\n",
        "                    [y_train, y_train],\n",
        "                    validation_data = (\n",
        "                        [x_valid_scaled_wide, x_valid_scaled_deep],\n",
        "                        [y_valid, y_valid]),\n",
        "                    epochs = 100,\n",
        "                    callbacks = callbacks)"
      ],
      "execution_count": 6,
      "outputs": [
        {
          "output_type": "stream",
          "text": [
            "Train on 11610 samples, validate on 3870 samples\n",
            "Epoch 1/100\n",
            "11610/11610 [==============================] - 2s 167us/sample - loss: 3.7187 - dense_2_loss: 1.8971 - dense_3_loss: 1.8205 - val_loss: 1.7007 - val_dense_2_loss: 0.7965 - val_dense_3_loss: 0.9041\n",
            "Epoch 2/100\n",
            "11610/11610 [==============================] - 1s 85us/sample - loss: 1.2671 - dense_2_loss: 0.5887 - dense_3_loss: 0.6783 - val_loss: 1.1450 - val_dense_2_loss: 0.5207 - val_dense_3_loss: 0.6241\n",
            "Epoch 3/100\n",
            "11610/11610 [==============================] - 1s 84us/sample - loss: 1.0326 - dense_2_loss: 0.4622 - dense_3_loss: 0.5703 - val_loss: 1.0407 - val_dense_2_loss: 0.4585 - val_dense_3_loss: 0.5820\n",
            "Epoch 4/100\n",
            "11610/11610 [==============================] - 1s 77us/sample - loss: 0.9486 - dense_2_loss: 0.4222 - dense_3_loss: 0.5264 - val_loss: 0.9523 - val_dense_2_loss: 0.4265 - val_dense_3_loss: 0.5256\n",
            "Epoch 5/100\n",
            "11610/11610 [==============================] - 1s 85us/sample - loss: 0.8897 - dense_2_loss: 0.3975 - dense_3_loss: 0.4921 - val_loss: 0.9055 - val_dense_2_loss: 0.4019 - val_dense_3_loss: 0.5034\n",
            "Epoch 6/100\n",
            "11610/11610 [==============================] - 1s 87us/sample - loss: 0.8344 - dense_2_loss: 0.3755 - dense_3_loss: 0.4591 - val_loss: 0.8337 - val_dense_2_loss: 0.3778 - val_dense_3_loss: 0.4557\n",
            "Epoch 7/100\n",
            "11610/11610 [==============================] - 1s 91us/sample - loss: 0.7977 - dense_2_loss: 0.3623 - dense_3_loss: 0.4354 - val_loss: 0.7919 - val_dense_2_loss: 0.3621 - val_dense_3_loss: 0.4296\n",
            "Epoch 8/100\n",
            "11610/11610 [==============================] - 1s 86us/sample - loss: 0.7700 - dense_2_loss: 0.3533 - dense_3_loss: 0.4166 - val_loss: 0.7778 - val_dense_2_loss: 0.3558 - val_dense_3_loss: 0.4218\n",
            "Epoch 9/100\n",
            "11610/11610 [==============================] - 1s 85us/sample - loss: 0.7551 - dense_2_loss: 0.3463 - dense_3_loss: 0.4087 - val_loss: 0.7735 - val_dense_2_loss: 0.3563 - val_dense_3_loss: 0.4171\n",
            "Epoch 10/100\n",
            "11610/11610 [==============================] - 1s 85us/sample - loss: 0.7415 - dense_2_loss: 0.3409 - dense_3_loss: 0.4008 - val_loss: 0.7521 - val_dense_2_loss: 0.3477 - val_dense_3_loss: 0.4042\n",
            "Epoch 11/100\n",
            "11610/11610 [==============================] - 1s 87us/sample - loss: 0.7381 - dense_2_loss: 0.3382 - dense_3_loss: 0.4001 - val_loss: 0.7569 - val_dense_2_loss: 0.3465 - val_dense_3_loss: 0.4103\n",
            "Epoch 12/100\n",
            "11610/11610 [==============================] - 1s 85us/sample - loss: 0.7315 - dense_2_loss: 0.3350 - dense_3_loss: 0.3964 - val_loss: 0.7424 - val_dense_2_loss: 0.3433 - val_dense_3_loss: 0.3990\n",
            "Epoch 13/100\n",
            "11610/11610 [==============================] - 1s 83us/sample - loss: 0.7220 - dense_2_loss: 0.3338 - dense_3_loss: 0.3882 - val_loss: 0.7390 - val_dense_2_loss: 0.3392 - val_dense_3_loss: 0.3997\n",
            "Epoch 14/100\n",
            "11610/11610 [==============================] - 1s 85us/sample - loss: 0.7151 - dense_2_loss: 0.3293 - dense_3_loss: 0.3860 - val_loss: 0.7257 - val_dense_2_loss: 0.3349 - val_dense_3_loss: 0.3907\n",
            "Epoch 15/100\n",
            "11610/11610 [==============================] - 1s 88us/sample - loss: 0.7114 - dense_2_loss: 0.3301 - dense_3_loss: 0.3816 - val_loss: 0.7368 - val_dense_2_loss: 0.3411 - val_dense_3_loss: 0.3957\n",
            "Epoch 16/100\n",
            "11610/11610 [==============================] - 1s 87us/sample - loss: 0.7104 - dense_2_loss: 0.3269 - dense_3_loss: 0.3838 - val_loss: 0.7185 - val_dense_2_loss: 0.3315 - val_dense_3_loss: 0.3868\n",
            "Epoch 17/100\n",
            "11610/11610 [==============================] - 1s 84us/sample - loss: 0.7008 - dense_2_loss: 0.3223 - dense_3_loss: 0.3787 - val_loss: 0.7130 - val_dense_2_loss: 0.3287 - val_dense_3_loss: 0.3842\n",
            "Epoch 18/100\n",
            "11610/11610 [==============================] - 1s 85us/sample - loss: 0.6918 - dense_2_loss: 0.3198 - dense_3_loss: 0.3719 - val_loss: 0.7062 - val_dense_2_loss: 0.3251 - val_dense_3_loss: 0.3810\n",
            "Epoch 19/100\n",
            "11610/11610 [==============================] - 1s 88us/sample - loss: 0.6975 - dense_2_loss: 0.3238 - dense_3_loss: 0.3738 - val_loss: 0.7131 - val_dense_2_loss: 0.3293 - val_dense_3_loss: 0.3837\n",
            "Epoch 20/100\n",
            "11610/11610 [==============================] - 1s 87us/sample - loss: 0.6902 - dense_2_loss: 0.3195 - dense_3_loss: 0.3705 - val_loss: 0.7049 - val_dense_2_loss: 0.3238 - val_dense_3_loss: 0.3811\n",
            "Epoch 21/100\n",
            "11610/11610 [==============================] - 1s 85us/sample - loss: 0.6868 - dense_2_loss: 0.3161 - dense_3_loss: 0.3707 - val_loss: 0.7048 - val_dense_2_loss: 0.3221 - val_dense_3_loss: 0.3826\n",
            "Epoch 22/100\n",
            "11610/11610 [==============================] - 1s 83us/sample - loss: 0.6860 - dense_2_loss: 0.3170 - dense_3_loss: 0.3692 - val_loss: 0.7069 - val_dense_2_loss: 0.3217 - val_dense_3_loss: 0.3851\n"
          ],
          "name": "stdout"
        }
      ]
    },
    {
      "cell_type": "code",
      "metadata": {
        "id": "RwKk-GsPNIvy",
        "colab_type": "code",
        "outputId": "b564a3b2-7d55-425f-dda7-92a76c6eaecb",
        "colab": {
          "base_uri": "https://localhost:8080/",
          "height": 324
        }
      },
      "source": [
        "def plot_learning_curves(history):\n",
        "  pd.DataFrame(history.history).plot(figsize = (8,5))\n",
        "  plt.grid(True)\n",
        "  plt.gca().set_ylim(0,1)\n",
        "  plt.show()\n",
        "plot_learning_curves(history)"
      ],
      "execution_count": 7,
      "outputs": [
        {
          "output_type": "display_data",
          "data": {
            "image/png": "[encoded data removed]",
            "text/plain": [
              "<Figure size 576x360 with 1 Axes>"
            ]
          },
          "metadata": {
            "tags": []
          }
        }
      ]
    },
    {
      "cell_type": "code",
      "metadata": {
        "id": "IF3UQ95bNkyv",
        "colab_type": "code",
        "outputId": "5d2cd3c8-e9a2-48c0-f27e-9f92fd9066e4",
        "colab": {
          "base_uri": "https://localhost:8080/",
          "height": 71
        }
      },
      "source": [
        "model.evaluate([x_test_scaled_wide, x_test_scaled_deep], [y_test, y_test])"
      ],
      "execution_count": 8,
      "outputs": [
        {
          "output_type": "stream",
          "text": [
            "5160/5160 [==============================] - 0s 37us/sample - loss: 0.7286 - dense_2_loss: 0.3314 - dense_3_loss: 0.3991\n"
          ],
          "name": "stdout"
        },
        {
          "output_type": "execute_result",
          "data": {
            "text/plain": [
              "[0.7286219612572544, 0.33143732, 0.39906034]"
            ]
          },
          "metadata": {
            "tags": []
          },
          "execution_count": 8
        }
      ]
    },
    {
      "cell_type": "code",
      "metadata": {
        "id": "lh9WL_ThxCBs",
        "colab_type": "code",
        "colab": {}
      },
      "source": [
        "# Load the TensorBoard notebook extension\n",
        "%load_ext tensorboard\n",
        "%tensorboard --logdir callbacks"
      ],
      "execution_count": 0,
      "outputs": []
    }
  ]
}